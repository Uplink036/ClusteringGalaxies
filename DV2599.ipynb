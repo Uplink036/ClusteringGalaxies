{
 "cells": [
  {
   "attachments": {},
   "cell_type": "markdown",
   "metadata": {
    "datalore": {
     "hide_input_from_viewers": true,
     "hide_output_from_viewers": true,
     "node_id": "Rf9PQvvYv2ma08ZLeh0Tiz",
     "type": "MD"
    }
   },
   "source": [
    "- [ ] Import data\n",
    "- [ ] Make into binary, based on a threshold\n",
    "- [ ] Find the brighest row and column, i.e. the galaxu of our pixture. Might be able to use blob from skimage\n",
    "- [ ] Rotate using some sort of PC(A?) to make it easier for our model to handle later. \n",
    "- [ ] Resise somewhere along this list to a format we choose. "
   ]
  },
  {
   "attachments": {},
   "cell_type": "markdown",
   "metadata": {
    "datalore": {
     "hide_input_from_viewers": true,
     "hide_output_from_viewers": true,
     "node_id": "YJ9v4UAKhn89wJYVKW2UGv",
     "type": "MD"
    }
   },
   "source": [
    "# preprocesing\n",
    "- [ ] Check each image and check how many \"blobs\" they have. \n",
    "- [ ] Remove them \n",
    "- [ ] Check how many we have left.  "
   ]
  },
  {
   "attachments": {},
   "cell_type": "markdown",
   "metadata": {
    "datalore": {
     "hide_input_from_viewers": true,
     "hide_output_from_viewers": true,
     "node_id": "To1SUDScKh5TAsaDKj68gB",
     "type": "MD"
    }
   },
   "source": [
    "# Remove images where blob overlap \n",
    "- [ ] Check the rows we get in blob\n",
    "- [ ] Using the middle point and a radius, if two blobs overlap\n",
    "- [ ] We remove that image. "
   ]
  },
  {
   "attachments": {},
   "cell_type": "markdown",
   "metadata": {
    "datalore": {
     "hide_input_from_viewers": true,
     "hide_output_from_viewers": true,
     "node_id": "idogm7aAdAjLzrp92xj8yS",
     "type": "MD"
    }
   },
   "source": []
  },
  {
   "cell_type": "code",
   "execution_count": null,
   "metadata": {},
   "outputs": [],
   "source": [
    "%matplotlib inline"
   ]
  },
  {
   "cell_type": "code",
   "execution_count": null,
   "metadata": {
    "datalore": {
     "hide_input_from_viewers": true,
     "hide_output_from_viewers": true,
     "node_id": "zAz2JxsbJkBf8Sg3SnuHtf",
     "type": "CODE"
    }
   },
   "outputs": [],
   "source": [
    "import skimage as ski\n",
    "import numpy as np\n",
    "import os \n",
    "import sys\n",
    "import matplotlib.pyplot as plt"
   ]
  },
  {
   "cell_type": "code",
   "execution_count": null,
   "metadata": {},
   "outputs": [],
   "source": [
    "def get_image_path(galaxyID, test_true=False, train_true=False):\n",
    "    if galaxyID is None:\n",
    "        return None\n",
    "    if isinstance(galaxyID, int):\n",
    "        galaxyID = str(galaxyID)\n",
    "    # Get the current working directory\n",
    "    current_dir = os.getcwd()\n",
    "    # Search through the subfolders for the image with the same ID\n",
    "    search_dir = current_dir\n",
    "    for root, dirs, files in os.walk(search_dir):\n",
    "        for file in files:\n",
    "            if file.startswith(galaxyID):\n",
    "                return os.path.join(root, file)\n",
    "\n",
    "    # If the image is not found, return None\n",
    "    return None\n"
   ]
  },
  {
   "cell_type": "code",
   "execution_count": null,
   "metadata": {},
   "outputs": [],
   "source": [
    "# get_image_path(747207)"
   ]
  },
  {
   "cell_type": "code",
   "execution_count": null,
   "metadata": {
    "datalore": {
     "hide_input_from_viewers": true,
     "hide_output_from_viewers": true,
     "node_id": "GgPHCAp6VeLrODQ7OP9R7l",
     "type": "CODE"
    }
   },
   "outputs": [],
   "source": [
    "\n",
    "\n",
    "# img = ski.io.imread(get_image_path(747207))\n",
    "# img = ski.io.imread(get_image_path(262909))\n",
    "# img = ski.io.imread(get_image_path(312941)) ##outlier, don't change\n",
    "# img = ski.io.imread(get_image_path(732356))\n",
    "# img = ski.io.imread(get_image_path(101151)) ##irregular\n",
    "# img = ski.io.imread(get_image_path(458590)) ## long\n",
    "# img = ski.io.imread(get_image_path(459014)) ##overlap\n",
    "# img = ski.io.imread(get_image_path(856044)) ##overlap\n",
    "# img = ski.io.imread(get_image_path(856535)) ##overlap\n",
    "# img = ski.io.imread(get_image_path(100295)) ##black stripe\n",
    "# img = ski.io.imread(get_image_path(856758)) ##black stripe\n",
    "# img = ski.io.imread(get_image_path(775905)) ##very inactive galaxy\n",
    "# img = ski.io.imread(get_image_path(744265)) ##very bright background\n",
    "# img = ski.io.imread(get_image_path(100008))\n"
   ]
  },
  {
   "cell_type": "code",
   "execution_count": null,
   "metadata": {},
   "outputs": [],
   "source": []
  },
  {
   "cell_type": "code",
   "execution_count": null,
   "metadata": {
    "datalore": {
     "hide_input_from_viewers": true,
     "hide_output_from_viewers": true,
     "node_id": "mO5wDsWOaH9RXAFxfMeODe",
     "type": "CODE"
    }
   },
   "outputs": [],
   "source": [
    "# print(\"Hello\")\n",
    "# raise SystemExit\n",
    "# image_collection = ski.io.imread_collection('/images_training_rev1/*.jpg', conserve_memory=True)\n",
    "# print(\"This should not run\")"
   ]
  },
  {
   "cell_type": "code",
   "execution_count": null,
   "metadata": {
    "datalore": {
     "hide_input_from_viewers": true,
     "hide_output_from_viewers": true,
     "node_id": "D4zaCkGRce0eKEDS0C7bHc",
     "type": "CODE"
    }
   },
   "outputs": [],
   "source": [
    "class Galaxy:\n",
    "    def __init__(self, x, y, sigma):\n",
    "        self._x = x\n",
    "        self._y = y\n",
    "        self._sigma = sigma\n",
    "    \n",
    "    @property\n",
    "    def center(self):\n",
    "        return [self._x, self._y]\n",
    "    \n",
    "    @property\n",
    "    def radius(self):\n",
    "        factor = np.sqrt(2)\n",
    "        return factor*self._sigma\n",
    "\n",
    "def cropp_image(image, center_x, center_y, radius):\n",
    "    return image[int(center_x-radius):int(center_x+radius), int(center_y-radius):int(center_y+radius)]\n",
    "\n",
    "def overlap(image, galaxy1:Galaxy, galaxy2:Galaxy, verbose=False):\n",
    "    top_galaxy, bottom_galaxy = (galaxy1, galaxy2) if galaxy1.center[1] > galaxy2.center[1] else (galaxy2, galaxy1) \n",
    "    # top_galaxy will be the one most to the bottom of the pictures\n",
    "    # This is because of the pixel coordinates, where the y-axis is inverted\n",
    "    \n",
    "    D = np.sqrt((top_galaxy.center[0]-bottom_galaxy.center[0])**2 + (top_galaxy.center[1]-bottom_galaxy.center[1])**2)\n",
    "    alpha = np.arcsin((top_galaxy.center[0]-bottom_galaxy.center[0])/D)\n",
    "\n",
    "    if top_galaxy.center[0] < bottom_galaxy.center[0]:\n",
    "        alpha = np.pi/2+alpha\n",
    "    else:\n",
    "        alpha = np.pi/2+alpha\n",
    "\n",
    "    closest_point = [int(top_galaxy.center[0] + top_galaxy.radius*np.cos(alpha)), int(top_galaxy.center[1] - top_galaxy.radius*np.sin(alpha))]\n",
    "    if verbose:\n",
    "        print(f\"Closest point: {closest_point}\")\n",
    "        print(f\"Distance: {D}\")\n",
    "        print(f\"Alpha: {alpha/np.pi*180} degrees\")\n",
    "        print(f\"Top Galaxy center: {top_galaxy.center}\")\n",
    "        print(f\"Bottom Galaxy center: {bottom_galaxy.center}\")\n",
    "\n",
    "        #plot the two galaxies\n",
    "        ski.io.imshow(image)\n",
    "        plt.plot(top_galaxy.center[0], top_galaxy.center[1], 'go')\n",
    "        plt.plot(bottom_galaxy.center[0], bottom_galaxy.center[1], 'go')\n",
    "        #plot the closest point onto the image\n",
    "   \n",
    "        plt.plot(closest_point[0], closest_point[1], 'ro')\n",
    "        \n",
    "        plt.plot([top_galaxy.center[0], bottom_galaxy.center[0]], [top_galaxy.center[1], bottom_galaxy.center[1]], 'r-')\n",
    "        plt.show()\n",
    "    if np.sqrt((closest_point[0]-bottom_galaxy.center[0])**2 + (closest_point[1]-bottom_galaxy.center[1])**2) < bottom_galaxy.radius:\n",
    "        return True\n",
    "    else:\n",
    "        return False\n",
    "\n",
    "def find_galaxy(image, window, verbose=False):\n",
    "    blobs = ski.feature.blob_doh(image,\n",
    "                                threshold=0.004, \n",
    "                                max_sigma = 100,\n",
    "                                overlap=1)\n",
    "    if verbose:\n",
    "        print(blobs)\n",
    "    image_center = [image.shape[0]//2, image.shape[1]//2]\n",
    "    found_galaxy = None\n",
    "    largest_sigma = 0\n",
    "    blobs_in_window = []\n",
    "    for b in blobs:\n",
    "        if all(abs(b[i] - image_center[i]) < window for i in range(2)) and b[2] > largest_sigma:\n",
    "            blobs_in_window.append(b)\n",
    "            largest_sigma = b[2]\n",
    "            found_galaxy = b\n",
    "\n",
    "    if found_galaxy is None:\n",
    "        return None\n",
    "        \n",
    "    found_galaxy = Galaxy(found_galaxy[1], found_galaxy[0], found_galaxy[2])\n",
    "\n",
    "    for b in blobs:\n",
    "        blob = Galaxy(b[1], b[0], b[2])\n",
    "        if blob.center != found_galaxy.center:\n",
    "            # Check if they overlap\n",
    "            if overlap(image, found_galaxy, blob, verbose=verbose):\n",
    "                if verbose:\n",
    "                    print(f\"There is overlap between {found_galaxy.center} and {blob.center}\")\n",
    "                return False\n",
    "    return found_galaxy\n",
    "            "
   ]
  },
  {
   "cell_type": "code",
   "execution_count": null,
   "metadata": {},
   "outputs": [],
   "source": [
    "def check_for_black_stripe(image, verbose=False):\n",
    "    # If there is at least 10 dark pixels in a row of any angle that are surrounded by light pixels, then there is a black stripe\n",
    "    # image is cropped and gray scaled\n",
    "\n",
    "    dark_pixel_threshold = 0.1\n",
    "    dark_pixel_count_threshold = 15\n",
    "    bright_pixel_threshold = 0.2\n",
    "\n",
    "    dark_pixels = []\n",
    "    for i in range(image.shape[0]):\n",
    "        for j in range(image.shape[1]):\n",
    "            if image[i][j] < dark_pixel_threshold:\n",
    "                dark_pixels.append([i,j])\n",
    "    \n",
    "    bright_pixels = []\n",
    "    for i in range(image.shape[0]):\n",
    "        for j in range(image.shape[1]):\n",
    "            if image[i][j] > bright_pixel_threshold:\n",
    "                bright_pixels.append([i,j])\n",
    "\n",
    "\n",
    "    suspicious_pixels = []\n",
    "    # Look at a window around each dark pixel\n",
    "    # If the mean of the pixels in the window is above the bright pixel threshold, add it to the list of suspicious pixels\n",
    "    for pixel in dark_pixels:\n",
    "        window = 5\n",
    "        window_pixels = []\n",
    "        for i in range(pixel[0]-window, pixel[0]+window):\n",
    "            for j in range(pixel[1]-window, pixel[1]+window):\n",
    "                if i >= 0 and i < image.shape[0] and j >= 0 and j < image.shape[1]:\n",
    "                    window_pixels.append(image[i][j])\n",
    "        if np.mean(window_pixels) > bright_pixel_threshold:\n",
    "            suspicious_pixels.append(pixel)\n",
    "\n",
    "    #Plot the dark pixels onto the image\n",
    "    if verbose:\n",
    "        ski.io.imshow(image)\n",
    "        \n",
    "        for pixel in bright_pixels:\n",
    "            plt.plot(pixel[1], pixel[0], 'bo')\n",
    "        for pixel in dark_pixels:\n",
    "            plt.plot(pixel[1], pixel[0], 'ro')\n",
    "        for pixel in suspicious_pixels:\n",
    "            plt.plot(pixel[1], pixel[0], 'go')\n",
    "        plt.show()\n",
    "\n",
    "    # How many suspicious pixels are there?\n",
    "    if len(suspicious_pixels) > dark_pixel_count_threshold:\n",
    "        # Do linear regression on the suspicious pixels\n",
    "        # If the R^2 value is high, then there is a black stripe\n",
    "\n",
    "        # Get the x and y values of the suspicious pixels\n",
    "        x = []\n",
    "        y = []\n",
    "        for pixel in suspicious_pixels:\n",
    "            x.append(pixel[0])\n",
    "            y.append(pixel[1])\n",
    "        # Do linear regression with numpy\n",
    "        slope, intercept = np.polyfit(x, y, 1)\n",
    "        #Plot the line\n",
    "        if verbose:\n",
    "            plt.plot(x, y, 'ro')\n",
    "            plt.plot(x, [slope*x[i] + intercept for i in range(len(x))], 'b')\n",
    "            plt.show()\n",
    "        # Get the R^2 value\n",
    "        r_squared = np.corrcoef(x, y)[0,1]**2\n",
    "        # If the R^2 value is high, then there is a black stripe\n",
    "        print(f\"R^2 = {r_squared}\")\n",
    "        if r_squared > 0.7:\n",
    "            print(\"Black Stripe found\")\n",
    "            return True\n",
    "        else:\n",
    "            print(\"Black Stripe was not found\")\n",
    "            return False\n",
    "    else:\n",
    "        return False"
   ]
  },
  {
   "cell_type": "code",
   "execution_count": null,
   "metadata": {
    "datalore": {
     "hide_input_from_viewers": true,
     "hide_output_from_viewers": true,
     "node_id": "HMqMpWTrd5SCXo6fkonbyF",
     "type": "CODE"
    }
   },
   "outputs": [],
   "source": [
    "def get_covariance_matrix(image, x_size, y_size):\n",
    "    coord_rows = []\n",
    "    coord_columns = []\n",
    "    for index_row in range(0, x_size):\n",
    "        for index_column in range(0, y_size):\n",
    "            if image[index_row][index_column] == 1:\n",
    "                coord_rows.append(index_row)\n",
    "                coord_columns.append(index_column)\n",
    "    cov_matrix = np.cov(coord_rows, y=coord_columns)\n",
    "    return cov_matrix\n"
   ]
  },
  {
   "cell_type": "code",
   "execution_count": null,
   "metadata": {
    "datalore": {
     "hide_input_from_viewers": true,
     "hide_output_from_viewers": true,
     "node_id": "8jUeutfRNQNbv2iuFFi93m",
     "type": "CODE"
    }
   },
   "outputs": [],
   "source": [
    "def get_rotation_on_image(image, verbose=False):\n",
    "    binary_image = ski.util.img_as_bool(image)\n",
    "    if verbose:\n",
    "        ski.io.imshow(binary_image)\n",
    "        pass\n",
    "    \n",
    "    cov_matrix = get_covariance_matrix(binary_image, len(binary_image), len(binary_image[0]))\n",
    "    \n",
    "    if verbose:\n",
    "        print(f\"cov_matrix[0] = \\t[{cov_matrix[0][0]}, {cov_matrix[0][1]}]\")\n",
    "        print(f\"cov_matrix[1] = \\t[{cov_matrix[1][0]}, {cov_matrix[1][1]}]\")\n",
    "    result = np.linalg.eigh(cov_matrix)\n",
    "    eigenvalues = result[0]\n",
    "    eigenvectors = result[1]\n",
    "\n",
    "    \n",
    "    max_eigen_index, = np.where(np.isclose(eigenvalues, max(eigenvalues)))[0]\n",
    "    if verbose:\n",
    "        print(f\"Eigenvalues     = \\t[{eigenvalues[0]}, {eigenvalues[1]}]\")\n",
    "        print(f\"eigenvectors[0] = \\t[{eigenvectors[0][0]}, {eigenvectors[0][1]}]\")\n",
    "        print(f\"eigenvectors[1] = \\t[{eigenvectors[1][0]}, {eigenvectors[1][1]}]\")\n",
    "        print(eigenvectors[max_eigen_index][0])\n",
    "        print(eigenvectors[(max_eigen_index+1)%2][1])\n",
    "    rotations_in_radians = np.arccos((eigenvectors[max_eigen_index][0]+eigenvectors[(max_eigen_index+1)%2][1]) / 2)\n",
    "    rotation_in_degrees = np.rad2deg(rotations_in_radians)\n",
    "    if rotation_in_degrees > 90:\n",
    "        rotation_in_degrees = 180 - rotation_in_degrees\n",
    "\n",
    "\n",
    "    if (eigenvectors[max_eigen_index][0] * eigenvectors[max_eigen_index][1]) > 0:\n",
    "        rotation_in_degrees = -rotation_in_degrees\n",
    "\n",
    "    if verbose:\n",
    "        print(\"Rotating images with the deg\", rotation_in_degrees)\n",
    "        # ski.io.imshow(ski.transform.rotate(image, rotation_in_degrees))\n",
    "\n",
    "    return rotation_in_degrees+90\n"
   ]
  },
  {
   "cell_type": "code",
   "execution_count": null,
   "metadata": {},
   "outputs": [],
   "source": [
    "def filter_image(img, verbose=False):\n",
    "    \"\"\"\n",
    "    Very simple function that is only supposed to use already existing functions with minimal interaction to handle a picture.\n",
    "    \n",
    "    It should return true if it's filtered out and false if it's not.\n",
    "    \"\"\"\n",
    "    gray_img = ski.color.rgb2gray(img)\n",
    "    galaxy = find_galaxy(gray_img, window=50, verbose=verbose) \n",
    "    if galaxy is None or galaxy is False:\n",
    "        return True\n",
    "    \n",
    "    cropped_img = cropp_image(gray_img, galaxy.center[0], galaxy.center[1], galaxy.radius)\n",
    "    cropped_exposed_img = ski.exposure.rescale_intensity(cropped_img)\n",
    "    return_value = check_for_black_stripe(cropped_exposed_img, verbose=verbose) ## Not implemented\n",
    "    if return_value is True:\n",
    "        return True\n",
    "        \n",
    "    return galaxy\n",
    "\n",
    "def preprocess_image(img, galaxy, verbose=False):\n",
    "    \"\"\"\n",
    "    Function that should handle the image and return a cropped and rotated image.\n",
    "    \"\"\"  \n",
    "    gray_img = ski.color.rgb2gray(img)  \n",
    "    cropped_img = cropp_image(gray_img, galaxy.center[0], galaxy.center[1], galaxy.radius)\n",
    "    cropped_exposed_img = ski.exposure.rescale_intensity(cropped_img)\n",
    "    angle = get_rotation_on_image(cropped_exposed_img, verbose=verbose)\n",
    "    rotated_image = ski.transform.rotate(gray_img, angle)\n",
    "    cropped_rotated_img = cropp_image(rotated_image, galaxy.center[0], galaxy.center[1], galaxy.radius)\n",
    "    resized_cropped_rotated_image = ski.transform.resize(cropped_rotated_img, (128, 128))\n",
    "    resized_cropped_rotated_image = ski.exposure.rescale_intensity(resized_cropped_rotated_image)\n",
    "    return resized_cropped_rotated_image\n"
   ]
  },
  {
   "cell_type": "code",
   "execution_count": null,
   "metadata": {},
   "outputs": [],
   "source": [
    "# FLAGS \n",
    "FILTER_IMAGES = True\n",
    "PREPROCESS_IMAGES = True\n",
    "VERBOSE = True\n",
    "VERBOSE_FUNCTIONS = False\n",
    "# Check if the folder, images_training_subfolder31, exists\n",
    "FOLDER_OF_INTEREST = \"images_training_subfolder31\"\n",
    "\n",
    "if not os.path.isdir(FOLDER_OF_INTEREST):\n",
    "    print(f\"The folder {FOLDER_OF_INTEREST} does not exist. Please download from the Kaggle website and split if needed.\")\n",
    "    raise SystemExit\n",
    "\n",
    "image_collection = ski.io.imread_collection(f\"./{FOLDER_OF_INTEREST}/*.jpg\", conserve_memory=True)\n",
    "\n",
    "for index, image in enumerate(image_collection):\n",
    "    name = image_collection.files[index].split(\"/\")[-1].split(\".\")[0]\n",
    "    \n",
    "    if VERBOSE:\n",
    "        print(f\"Image[{index}]\")\n",
    "\n",
    "    if FILTER_IMAGES:\n",
    "        return_value = filter_image(image, VERBOSE_FUNCTIONS) \n",
    "        if return_value is True:\n",
    "            if VERBOSE:\n",
    "                print(f\"Image[{index}] was filtered out\")\n",
    "            continue \n",
    "    galaxy = return_value\n",
    "    \n",
    "    if VERBOSE:\n",
    "        print(\"Image passed filter\")\n",
    "\n",
    "    if PREPROCESS_IMAGES:\n",
    "        preprocessed_image = preprocess_image(image, galaxy, VERBOSE_FUNCTIONS)\n",
    "        # Send image to prepped_images folder\n",
    "        # Make it a tiff file\n",
    "        image = ski.img_as_ubyte(preprocessed_image)\n",
    "        # If the folder does not exist, create it\n",
    "        if not os.path.isdir(f\"./prepped_images/{FOLDER_OF_INTEREST}\"):\n",
    "            os.mkdir(f\"./prepped_images/{FOLDER_OF_INTEREST}\")\n",
    "        ski.io.imsave(f\"./prepped_images/{FOLDER_OF_INTEREST}/{name}.tiff\", image)\n",
    "\n",
    "    if VERBOSE:\n",
    "        print(\"Image was preprocessed\")\n",
    "\n",
    "        ski.io.imshow(preprocessed_image)\n",
    "   \n"
   ]
  },
  {
   "cell_type": "code",
   "execution_count": null,
   "metadata": {
    "datalore": {
     "hide_input_from_viewers": true,
     "hide_output_from_viewers": true,
     "node_id": "h5xuOI0KfGxcGmJhlMBxUn",
     "type": "CODE"
    }
   },
   "outputs": [],
   "source": [
    "print(\"Hello\")\n",
    "raise SystemExit\n",
    "print(\"This should not run\")"
   ]
  },
  {
   "cell_type": "markdown",
   "metadata": {},
   "source": [
    "## Now, we have a dataset of images with one galaxy in the middle."
   ]
  },
  {
   "cell_type": "markdown",
   "metadata": {},
   "source": [
    "## Next step is to work with the data and cluster it."
   ]
  },
  {
   "cell_type": "code",
   "execution_count": null,
   "metadata": {},
   "outputs": [],
   "source": [
    "import skimage as ski\n",
    "import numpy as np\n",
    "import os \n",
    "import sys\n",
    "import matplotlib.pyplot as plt\n",
    "import matplotlib.cm as cm\n",
    "\n",
    "import sklearn.cluster as cluster\n",
    "from sklearn.decomposition import PCA\n",
    "from minisom import MiniSom\n",
    "from sklearn import metrics"
   ]
  },
  {
   "cell_type": "code",
   "execution_count": null,
   "metadata": {},
   "outputs": [],
   "source": [
    "images = ski.io.imread_collection(f\"./prepped_images/images_training_subfolder3/*.tiff\", conserve_memory=True)\n",
    "images2 = ski.io.imread_collection(f\"./prepped_images/images_training_subfolder31/*.tiff\", conserve_memory=True)\n",
    "\n",
    "images_1d_mapped = {}\n",
    "for index, image in enumerate(images):\n",
    "    name = images.files[index].split(\"/\")[-1].split(\".\")[0]\n",
    "    images_1d_mapped[name]=image.flatten()\n",
    "for index, image in enumerate(images2):\n",
    "    name = images2.files[index].split(\"/\")[-1].split(\".\")[0]\n",
    "    images_1d_mapped[name]=image.flatten()\n",
    "\n",
    "images_as_array = np.array(list(images_1d_mapped.values()))\n",
    "# Scale the data between 0 and 1\n",
    "images_as_array = images_as_array / 255"
   ]
  },
  {
   "cell_type": "code",
   "execution_count": null,
   "metadata": {},
   "outputs": [],
   "source": [
    "images_as_array.shape"
   ]
  },
  {
   "cell_type": "code",
   "execution_count": null,
   "metadata": {},
   "outputs": [],
   "source": [
    "# Do PCA\n",
    "pca = PCA(n_components=200)\n",
    "pca.fit(images_as_array)\n",
    "\n",
    "images_as_pca = pca.transform(images_as_array)"
   ]
  },
  {
   "cell_type": "code",
   "execution_count": null,
   "metadata": {},
   "outputs": [],
   "source": [
    "images_as_pca.shape"
   ]
  },
  {
   "cell_type": "markdown",
   "metadata": {},
   "source": [
    "Do Hierarchical clustering, and see if we can find some clusters."
   ]
  },
  {
   "cell_type": "code",
   "execution_count": null,
   "metadata": {},
   "outputs": [],
   "source": [
    "# Create a AgglomerativeClustering object\n",
    "ms = cluster.AgglomerativeClustering(n_clusters=None, linkage=\"ward\", distance_threshold=100)\n",
    "\n",
    "# Train the model\n",
    "ms.fit(images_as_pca)\n",
    "\n",
    "# Extract cluster assignments for each data point.\n",
    "labels = ms.labels_\n",
    "\n",
    "# Coordinates of the cluster centers.\n",
    "#cluster_centers = ms.cluster_centers_\n",
    "\n",
    "# Count our clusters.\n",
    "n_clusters_ = len(np.unique(labels))\n",
    "\n",
    "print(\"Number of estimated clusters:\", n_clusters_)\n",
    "\n",
    "#How many images are in each cluster?\n",
    "unique, counts = np.unique(labels, return_counts=True)\n",
    "print(dict(zip(unique, counts)))"
   ]
  },
  {
   "cell_type": "code",
   "execution_count": null,
   "metadata": {},
   "outputs": [],
   "source": [
    "# Plot example images from each cluster\n",
    "# All the images from the same cluster are in the same row\n",
    "# The images are randomly selected from the cluster\n",
    "\n",
    "# Get the indices of the images in each cluster\n",
    "indices = []\n",
    "for i in range(n_clusters_):\n",
    "    indices.append([])\n",
    "for i in range(len(labels)):\n",
    "    indices[labels[i]].append(i)\n",
    "\n",
    "# Plot the images\n",
    "for i in range(n_clusters_):\n",
    "    if len(indices[i]) < 10:\n",
    "        continue\n",
    "    plt.figure(figsize=(20, 1))\n",
    "    #Add the title\n",
    "    plt.suptitle(f\"Cluster {i}\")\n",
    "    for j in range(20):\n",
    "        plt.subplot(1, 20, j+1)\n",
    "        plt.axis('off')\n",
    "        plt.imshow(images_as_array[indices[i][np.random.randint(0, len(indices[i]))]].reshape(128, 128), cmap=\"gray\")\n",
    "    plt.show()"
   ]
  },
  {
   "cell_type": "code",
   "execution_count": null,
   "metadata": {},
   "outputs": [],
   "source": [
    "#Metrics score\n",
    "from sklearn import metrics\n",
    "print(\"Silhouette Coefficient: %0.3f\"\n",
    "      % metrics.cluster.silhouette_score(images_as_array, labels))\n",
    "print(\"Davis-Bouldin Index: %0.3f\"\n",
    "      % metrics.cluster.davies_bouldin_score(images_as_array, labels))\n",
    "print(\"Calinski-Harabasz Index: %0.3f\"\n",
    "      % metrics.cluster.calinski_harabasz_score(images_as_array, labels))"
   ]
  },
  {
   "cell_type": "code",
   "execution_count": null,
   "metadata": {},
   "outputs": [],
   "source": [
    "# Now, plot again, but the real images\n",
    "\n",
    "# Get the indices of the images in each cluster\n",
    "indices = []\n",
    "for i in range(n_clusters_):\n",
    "    indices.append([])\n",
    "for i in range(len(labels)):\n",
    "    indices[labels[i]].append(i)\n",
    "\n",
    "# Plot the images\n",
    "for i in range(n_clusters_):\n",
    "    if len(indices[i]) < 10:\n",
    "        continue\n",
    "    plt.figure(figsize=(10, 1))\n",
    "    #Add the title\n",
    "    plt.suptitle(f\"Cluster {i}\")\n",
    "    for j in range(10):\n",
    "        random_index = np.random.randint(0, len(indices[i]))\n",
    "        #Find the image\n",
    "        image_index = indices[i][random_index]\n",
    "        # Find the filename\n",
    "        name = list(images_1d_mapped.keys())[image_index]\n",
    "        # Load the image\n",
    "        image = ski.io.imread(get_image_path(name))\n",
    "        plt.subplot(1, 10, j+1)\n",
    "        plt.axis('off')\n",
    "        plt.imshow(image)\n",
    "    plt.show()"
   ]
  },
  {
   "cell_type": "markdown",
   "metadata": {},
   "source": [
    "### This is good and all, but if we can use SOM (Self-organizing maps) we can get a 2D representation of the data with very high dimensionality. "
   ]
  },
  {
   "cell_type": "markdown",
   "metadata": {},
   "source": [
    "#### Below is code for that"
   ]
  },
  {
   "cell_type": "markdown",
   "metadata": {},
   "source": [
    "PS: I've mailed Veselka about SOM and if it classifies as just NN or if it is Deep Learning. "
   ]
  },
  {
   "cell_type": "code",
   "execution_count": null,
   "metadata": {},
   "outputs": [],
   "source": [
    "# Do PCA, but with 25 components to keep processing time down\n",
    "pca = PCA(n_components=25)\n",
    "pca.fit(images_as_array)\n",
    "\n",
    "images_as_pca_for_som = pca.transform(images_as_array)"
   ]
  },
  {
   "cell_type": "code",
   "execution_count": null,
   "metadata": {},
   "outputs": [],
   "source": [
    "#Do Self Organising Maps the images to extract features\n",
    "# Works well with PCA 25 components\n",
    "# Do SOM on the images\n",
    "from minisom import MiniSom\n",
    "array = images_as_pca_for_som\n",
    "som = MiniSom(int(10*np.sqrt(array.shape[0])), int(10*np.sqrt(array.shape[0])), array.shape[1], sigma=50, learning_rate=0.1, topology=\"rectangular\", random_seed=10)\n",
    "som.train(array, 1000)\n",
    "\n",
    "plt.figure(figsize=(10, 10))\n",
    "plt.pcolor(som.distance_map().T, cmap='bone_r')\n",
    "plt.colorbar()\n",
    "\n",
    "for i, x in enumerate(array):\n",
    "    w = som.winner(x)\n",
    "    plt.plot(w[0] + 0.5, w[1] + 0.5, 'o', markerfacecolor='None', markersize=1, markeredgecolor='r', markeredgewidth=0.2)\n",
    "\n",
    "plt.show()\n"
   ]
  },
  {
   "cell_type": "code",
   "execution_count": null,
   "metadata": {},
   "outputs": [],
   "source": [
    "# Transform the images into the SOM space\n",
    "features = []\n",
    "for x in array:\n",
    "    w = som.winner(x)\n",
    "    features.append(w)\n",
    "features = np.array(features)"
   ]
  },
  {
   "cell_type": "code",
   "execution_count": null,
   "metadata": {},
   "outputs": [],
   "source": [
    "# Cluster with Agglomerative Clustering\n",
    "ms = cluster.AgglomerativeClustering(n_clusters=None, linkage=\"average\", distance_threshold=100)\n",
    "\n",
    "# Train the model\n",
    "ms.fit(features)\n",
    "\n",
    "# Extract cluster assignments for each data point.\n",
    "labels = ms.labels_\n",
    "\n",
    "# Coordinates of the cluster centers.\n",
    "#cluster_centers = ms.cluster_centers_\n",
    "\n",
    "# Count our clusters.\n",
    "n_clusters_ = len(np.unique(labels))\n",
    "\n",
    "print(\"Number of estimated clusters:\", n_clusters_)\n",
    "\n",
    "#How many images are in each cluster?\n",
    "unique, counts = np.unique(labels, return_counts=True)\n",
    "print(dict(zip(unique, counts)))"
   ]
  },
  {
   "cell_type": "code",
   "execution_count": null,
   "metadata": {},
   "outputs": [],
   "source": [
    "# Plot the clusters on a 2d plane\n",
    "plt.figure(figsize=(10, 10))\n",
    "plt.scatter(features[:,0], features[:,1], c=labels.astype(float))\n",
    "#Plot the labels\n",
    "for i, txt in enumerate(labels):\n",
    "    plt.annotate(txt, (features[i,0], features[i,1]))\n",
    "plt.show()"
   ]
  },
  {
   "cell_type": "code",
   "execution_count": null,
   "metadata": {},
   "outputs": [],
   "source": [
    "# Plot ten images from each cluster\n",
    "# All the images from the same cluster are in the same row\n",
    "# The images are randomly selected from the cluster\n",
    "\n",
    "# Get the indices of the images in each cluster\n",
    "indices = []\n",
    "for i in range(n_clusters_):\n",
    "    indices.append([])\n",
    "for i in range(len(labels)):\n",
    "    indices[labels[i]].append(i)\n",
    "\n",
    "# Plot the images\n",
    "for i in range(n_clusters_):\n",
    "    plt.figure(figsize=(20, 20))\n",
    "    for j in range(20):\n",
    "        plt.subplot(1, 20, j+1)\n",
    "        plt.axis('off')\n",
    "        plt.imshow(images_as_array[indices[i][np.random.randint(0, len(indices[i]))]].reshape(128, 128), cmap=\"gray\")\n",
    "    plt.show()"
   ]
  },
  {
   "cell_type": "code",
   "execution_count": null,
   "metadata": {},
   "outputs": [],
   "source": [
    "#Metrics score for SOM implementation\n",
    "from sklearn import metrics\n",
    "print(\"Silhouette Coefficient: %0.3f\"\n",
    "      % metrics.cluster.silhouette_score(features, labels))\n",
    "print(\"Davis-Bouldin Index: %0.3f\"\n",
    "      % metrics.cluster.davies_bouldin_score(features, labels))\n",
    "print(\"Calinski-Harabasz Index: %0.3f\"\n",
    "      % metrics.cluster.calinski_harabasz_score(features, labels))"
   ]
  },
  {
   "cell_type": "code",
   "execution_count": null,
   "metadata": {},
   "outputs": [],
   "source": []
  }
 ],
 "metadata": {
  "datalore": {
   "base_environment": "default",
   "computation_mode": "JUPYTER",
   "package_manager": "pip",
   "packages": [],
   "report_row_ids": [],
   "version": 3
  },
  "kernelspec": {
   "display_name": "base",
   "language": "python",
   "name": "python3"
  },
  "language_info": {
   "codemirror_mode": {
    "name": "ipython",
    "version": 3
   },
   "file_extension": ".py",
   "mimetype": "text/x-python",
   "name": "python",
   "nbconvert_exporter": "python",
   "pygments_lexer": "ipython3",
   "version": "3.11.5"
  }
 },
 "nbformat": 4,
 "nbformat_minor": 4
}
