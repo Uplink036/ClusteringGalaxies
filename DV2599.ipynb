{
 "cells": [
  {
   "attachments": {},
   "cell_type": "markdown",
   "metadata": {
    "datalore": {
     "hide_input_from_viewers": true,
     "hide_output_from_viewers": true,
     "node_id": "Rf9PQvvYv2ma08ZLeh0Tiz",
     "type": "MD"
    }
   },
   "source": [
    "- [ ] Import data\n",
    "- [ ] Make into binary, based on a threshold\n",
    "- [ ] Find the brighest row and column, i.e. the galaxu of our pixture. Might be able to use blob from skimage\n",
    "- [ ] Rotate using some sort of PC(A?) to make it easier for our model to handle later. \n",
    "- [ ] Resise somewhere along this list to a format we choose. "
   ]
  },
  {
   "attachments": {},
   "cell_type": "markdown",
   "metadata": {
    "datalore": {
     "hide_input_from_viewers": true,
     "hide_output_from_viewers": true,
     "node_id": "YJ9v4UAKhn89wJYVKW2UGv",
     "type": "MD"
    }
   },
   "source": [
    "# preprocesing\n",
    "- [ ] Check each image and check how many \"blobs\" they have. \n",
    "- [ ] Remove them \n",
    "- [ ] Check how many we have left.  "
   ]
  },
  {
   "attachments": {},
   "cell_type": "markdown",
   "metadata": {
    "datalore": {
     "hide_input_from_viewers": true,
     "hide_output_from_viewers": true,
     "node_id": "To1SUDScKh5TAsaDKj68gB",
     "type": "MD"
    }
   },
   "source": [
    "# Remove images where blob overlap \n",
    "- [ ] Check the rows we get in blob\n",
    "- [ ] Using the middle point and a radius, if two blobs overlap\n",
    "- [ ] We remove that image. "
   ]
  },
  {
   "attachments": {},
   "cell_type": "markdown",
   "metadata": {
    "datalore": {
     "hide_input_from_viewers": true,
     "hide_output_from_viewers": true,
     "node_id": "idogm7aAdAjLzrp92xj8yS",
     "type": "MD"
    }
   },
   "source": []
  },
  {
   "cell_type": "code",
   "execution_count": null,
   "metadata": {},
   "outputs": [],
   "source": [
    "%matplotlib inline"
   ]
  },
  {
   "cell_type": "code",
   "execution_count": null,
   "metadata": {
    "datalore": {
     "hide_input_from_viewers": true,
     "hide_output_from_viewers": true,
     "node_id": "zAz2JxsbJkBf8Sg3SnuHtf",
     "type": "CODE"
    }
   },
   "outputs": [],
   "source": [
    "import skimage as ski\n",
    "import numpy as np\n",
    "import os \n",
    "import sys\n",
    "import matplotlib.pyplot as plt"
   ]
  },
  {
   "cell_type": "code",
   "execution_count": null,
   "metadata": {},
   "outputs": [],
   "source": [
    "def get_image_path(galaxyID, test_true=False, train_true=False):\n",
    "    if galaxyID is None:\n",
    "        return None\n",
    "    if isinstance(galaxyID, int):\n",
    "        galaxyID = str(galaxyID)\n",
    "    # Get the current working directory\n",
    "    current_dir = os.getcwd()\n",
    "    # Search through the subfolders for the image with the same ID\n",
    "    search_dir = current_dir\n",
    "    for root, dirs, files in os.walk(search_dir):\n",
    "        for file in files:\n",
    "            if file.startswith(galaxyID):\n",
    "                return os.path.join(root, file)\n",
    "\n",
    "    # If the image is not found, return None\n",
    "    return None\n"
   ]
  },
  {
   "cell_type": "code",
   "execution_count": null,
   "metadata": {},
   "outputs": [],
   "source": [
    "get_image_path(747207)"
   ]
  },
  {
   "cell_type": "code",
   "execution_count": null,
   "metadata": {
    "datalore": {
     "hide_input_from_viewers": true,
     "hide_output_from_viewers": true,
     "node_id": "GgPHCAp6VeLrODQ7OP9R7l",
     "type": "CODE"
    }
   },
   "outputs": [],
   "source": [
    "\n",
    "\n",
    "# img = ski.io.imread(get_image_path(747207))\n",
    "# img = ski.io.imread(get_image_path(262909))\n",
    "# img = ski.io.imread(get_image_path(312941)) ##outlier, don't change\n",
    "# img = ski.io.imread(get_image_path(732356))\n",
    "# img = ski.io.imread(get_image_path(101151)) ##irregular\n",
    "# img = ski.io.imread(get_image_path(458590)) ## long\n",
    "img = ski.io.imread(get_image_path(459013)) ##overlap\n",
    "# img = ski.io.imread(get_image_path(100295)) ##black stripe\n",
    "# img = ski.io.imread(get_image_path(100774)) ##Ovelap\n",
    "# img = ski.io.imread(get_image_path(100008))\n"
   ]
  },
  {
   "cell_type": "code",
   "execution_count": null,
   "metadata": {
    "datalore": {
     "hide_input_from_viewers": true,
     "hide_output_from_viewers": true,
     "node_id": "ZKLjES56CzsYX7oHp0nGkr",
     "type": "CODE"
    }
   },
   "outputs": [],
   "source": [
    "ski.io.imshow(img)"
   ]
  },
  {
   "cell_type": "code",
   "execution_count": null,
   "metadata": {
    "datalore": {
     "hide_input_from_viewers": true,
     "hide_output_from_viewers": true,
     "node_id": "26LlsNYrn8nDQ7FDERsXdw",
     "type": "CODE"
    }
   },
   "outputs": [],
   "source": [
    "# Ignores colours, as that is mostly a factor of length and the shape of the galaxy is what we are aiming for. \n",
    "gray_img = ski.color.rgb2gray(img)\n",
    "ski.io.imshow(gray_img)"
   ]
  },
  {
   "cell_type": "code",
   "execution_count": null,
   "metadata": {
    "datalore": {
     "hide_input_from_viewers": true,
     "hide_output_from_viewers": true,
     "node_id": "D4zaCkGRce0eKEDS0C7bHc",
     "type": "CODE"
    }
   },
   "outputs": [],
   "source": [
    "class Galaxy:\n",
    "    def __init__(self, x, y, sigma):\n",
    "        self._x = x\n",
    "        self._y = y\n",
    "        self._sigma = sigma\n",
    "    \n",
    "    @property\n",
    "    def center(self):\n",
    "        return [self._x, self._y]\n",
    "    \n",
    "    @property\n",
    "    def radius(self):\n",
    "        factor = np.sqrt(2)\n",
    "        return factor*self._sigma\n",
    "\n",
    "def cropp_image(image, center_x, center_y, radius):\n",
    "    return image[int(center_x-radius):int(center_x+radius), int(center_y-radius):int(center_y+radius)]\n",
    "\n",
    "def overlap(galaxy1:Galaxy, galaxy2:Galaxy, verbose=False):\n",
    "    D = np.sqrt((galaxy1.center[0]-galaxy2.center[0])**2 + (galaxy1.center[1]-galaxy2.center[1])**2)\n",
    "    alpha = np.arccos(abs(galaxy1.center[0]-galaxy2.center[0])/D)\n",
    "    closest_point = [int(galaxy2.center[0] + galaxy2.radius*np.cos(alpha)), int(galaxy2.center[1] + galaxy2.radius*np.sin(alpha))]\n",
    "    if verbose:\n",
    "        print(f\"Closest point: {closest_point}\")\n",
    "        print(f\"Distance: {D}\")\n",
    "        print(f\"Alpha: {alpha}\")\n",
    "        print(f\"Galaxy1 center: {galaxy1.center}\")\n",
    "        print(f\"Galaxy2 center: {galaxy2.center}\")\n",
    "    # Is closest point within the radius of galaxy1?\n",
    "    if np.sqrt((closest_point[0]-galaxy1.center[0])**2 + (closest_point[1]-galaxy1.center[1])**2) < galaxy1.radius:\n",
    "        return True\n",
    "    else:\n",
    "        return False\n",
    "\n",
    "def find_galaxy(image, window, verbose=False):\n",
    "    blobs = ski.feature.blob_doh(image,\n",
    "                                threshold=0.002, \n",
    "                                max_sigma = 100,\n",
    "                                num_sigma=50,\n",
    "                                overlap=1)\n",
    "    if verbose:\n",
    "        print(blobs)\n",
    "    image_center = [image.shape[0]//2, image.shape[1]//2]\n",
    "    found_galaxy = None\n",
    "    largest_sigma = 0\n",
    "    blobs_in_window = []\n",
    "    for b in blobs:\n",
    "        if all(abs(b[i] - image_center[i]) < window for i in range(2)) and b[2] > largest_sigma:\n",
    "            blobs_in_window.append(b)\n",
    "            print(f\"blob considered: {b[0]}, {b[1]}, {b[2]}\")\n",
    "            largest_sigma = b[2]\n",
    "            found_galaxy = b\n",
    "\n",
    "    found_galaxy = Galaxy(found_galaxy[0], found_galaxy[1], found_galaxy[2])\n",
    "\n",
    "    for b in blobs_in_window:\n",
    "        blob = Galaxy(b[0], b[1], b[2])\n",
    "        if blob.center != found_galaxy.center:\n",
    "            # Check if they overlap\n",
    "            if overlap(found_galaxy, blob, verbose=True):\n",
    "                if verbose:\n",
    "                    print(f\"There is overlap. x1={blob.center[0]}, y1={blob.center[1]}\")\n",
    "                return found_galaxy #REMOVE!\n",
    "    return found_galaxy\n",
    "            "
   ]
  },
  {
   "cell_type": "code",
   "execution_count": null,
   "metadata": {
    "datalore": {
     "hide_input_from_viewers": true,
     "hide_output_from_viewers": true,
     "node_id": "MN0tTwY8CY220XKx8TJyZn",
     "type": "CODE"
    }
   },
   "outputs": [],
   "source": [
    "\n",
    "galaxy = find_galaxy(gray_img, window=50, verbose=True)"
   ]
  },
  {
   "cell_type": "code",
   "execution_count": null,
   "metadata": {},
   "outputs": [],
   "source": [
    "def check_for_black_stripe(image):\n",
    "    # If there is at least 10 dark pixels in a row of any angle that are surrounded by light pixels, then there is a black stripe\n",
    "    # image is cropped and gray scaled\n",
    "\n",
    "    dark_pixel_threshold = 0.1\n",
    "    dark_pixel_count_threshold = 15\n",
    "    bright_pixel_threshold = 0.2\n",
    "\n",
    "    dark_pixels = []\n",
    "    for i in range(image.shape[0]):\n",
    "        for j in range(image.shape[1]):\n",
    "            if image[i][j] < dark_pixel_threshold:\n",
    "                dark_pixels.append([i,j])\n",
    "    \n",
    "    bright_pixels = []\n",
    "    for i in range(image.shape[0]):\n",
    "        for j in range(image.shape[1]):\n",
    "            if image[i][j] > bright_pixel_threshold:\n",
    "                bright_pixels.append([i,j])\n",
    "\n",
    "\n",
    "    suspicious_pixels = []\n",
    "    # Look at a window around each dark pixel\n",
    "    # If the mean of the pixels in the window is above the bright pixel threshold, add it to the list of suspicious pixels\n",
    "    for pixel in dark_pixels:\n",
    "        window = 5\n",
    "        window_pixels = []\n",
    "        for i in range(pixel[0]-window, pixel[0]+window):\n",
    "            for j in range(pixel[1]-window, pixel[1]+window):\n",
    "                if i >= 0 and i < image.shape[0] and j >= 0 and j < image.shape[1]:\n",
    "                    window_pixels.append(image[i][j])\n",
    "        if np.mean(window_pixels) > bright_pixel_threshold:\n",
    "            suspicious_pixels.append(pixel)\n",
    "\n",
    "    # Plot the suspicious pixels onto the image\n",
    "\n",
    "    #Plot the dark pixels onto the image\n",
    "    ski.io.imshow(image)\n",
    "    \n",
    "    for pixel in bright_pixels:\n",
    "        plt.plot(pixel[1], pixel[0], 'bo')\n",
    "    for pixel in dark_pixels:\n",
    "        plt.plot(pixel[1], pixel[0], 'ro')\n",
    "    for pixel in suspicious_pixels:\n",
    "        plt.plot(pixel[1], pixel[0], 'go')\n",
    "    plt.show()\n",
    "\n",
    "    # How many suspicious pixels are there?\n",
    "    if len(suspicious_pixels) > dark_pixel_count_threshold:\n",
    "        # Do linear regression on the suspicious pixels\n",
    "        # If the R^2 value is high, then there is a black stripe\n",
    "\n",
    "        # Get the x and y values of the suspicious pixels\n",
    "        x = []\n",
    "        y = []\n",
    "        for pixel in suspicious_pixels:\n",
    "            x.append(pixel[0])\n",
    "            y.append(pixel[1])\n",
    "        # Do linear regression with numpy\n",
    "        slope, intercept = np.polyfit(x, y, 1)\n",
    "        #Plot the line\n",
    "        plt.plot(x, y, 'ro')\n",
    "        plt.plot(x, [slope*x[i] + intercept for i in range(len(x))], 'b')\n",
    "        plt.show()\n",
    "        # Get the R^2 value\n",
    "        r_squared = np.corrcoef(x, y)[0,1]**2\n",
    "        # If the R^2 value is high, then there is a black stripe\n",
    "        print(f\"R^2 = {r_squared}\")\n",
    "        if r_squared > 0.7:\n",
    "            print(\"Black Stripe found\")\n",
    "            return True\n",
    "        else:\n",
    "            print(\"Black Stripe was not found\")\n",
    "            return False\n",
    "    else:\n",
    "        return False"
   ]
  },
  {
   "cell_type": "code",
   "execution_count": null,
   "metadata": {
    "datalore": {
     "hide_input_from_viewers": true,
     "hide_output_from_viewers": true,
     "node_id": "6Fn1cLlYCiAuCAcTEwf5XR",
     "type": "CODE"
    }
   },
   "outputs": [],
   "source": [
    "cropped_img = cropp_image(gray_img, galaxy.center[0], galaxy.center[1], galaxy.radius)\n",
    "cropped_exposed_img = ski.exposure.rescale_intensity(cropped_img)\n",
    "ski.io.imshow(cropped_exposed_img)\n"
   ]
  },
  {
   "cell_type": "code",
   "execution_count": null,
   "metadata": {},
   "outputs": [],
   "source": [
    "check_for_black_stripe(cropped_exposed_img)"
   ]
  },
  {
   "cell_type": "code",
   "execution_count": null,
   "metadata": {
    "datalore": {
     "hide_input_from_viewers": true,
     "hide_output_from_viewers": true,
     "node_id": "HMqMpWTrd5SCXo6fkonbyF",
     "type": "CODE"
    }
   },
   "outputs": [],
   "source": [
    "def get_covariance_matrix(image, x_size, y_size):\n",
    "    coord_rows = []\n",
    "    coord_columns = []\n",
    "    for index_row in range(0, x_size):\n",
    "        for index_column in range(0, y_size):\n",
    "            if image[index_row][index_column] == 1:\n",
    "                coord_rows.append(index_row)\n",
    "                coord_columns.append(index_column)\n",
    "    cov_matrix = np.cov(coord_rows, y=coord_columns)\n",
    "    return cov_matrix\n"
   ]
  },
  {
   "cell_type": "code",
   "execution_count": null,
   "metadata": {
    "datalore": {
     "hide_input_from_viewers": true,
     "hide_output_from_viewers": true,
     "node_id": "8jUeutfRNQNbv2iuFFi93m",
     "type": "CODE"
    }
   },
   "outputs": [],
   "source": [
    "def get_rotation_on_image(image, verbose=False):\n",
    "    binary_image = ski.util.img_as_bool(image)\n",
    "    if verbose:\n",
    "        ski.io.imshow(binary_image)\n",
    "        pass\n",
    "    \n",
    "    cov_matrix = get_covariance_matrix(binary_image, len(binary_image), len(binary_image[0]))\n",
    "    \n",
    "    if verbose:\n",
    "        print(f\"cov_matrix[0] = \\t[{cov_matrix[0][0]}, {cov_matrix[0][1]}]\")\n",
    "        print(f\"cov_matrix[1] = \\t[{cov_matrix[1][0]}, {cov_matrix[1][1]}]\")\n",
    "    result = np.linalg.eigh(cov_matrix)\n",
    "    eigenvalues = result[0]\n",
    "    eigenvectors = result[1]\n",
    "\n",
    "    \n",
    "    max_eigen_index, = np.where(np.isclose(eigenvalues, max(eigenvalues)))[0]\n",
    "    if verbose:\n",
    "        print(f\"Eigenvalues     = \\t[{eigenvalues[0]}, {eigenvalues[1]}]\")\n",
    "        print(f\"eigenvectors[0] = \\t[{eigenvectors[0][0]}, {eigenvectors[0][1]}]\")\n",
    "        print(f\"eigenvectors[1] = \\t[{eigenvectors[1][0]}, {eigenvectors[1][1]}]\")\n",
    "        print(eigenvectors[max_eigen_index][0])\n",
    "        print(eigenvectors[(max_eigen_index+1)%2][1])\n",
    "    rotations_in_radians = np.arccos((eigenvectors[max_eigen_index][0]+eigenvectors[(max_eigen_index+1)%2][1]) / 2)\n",
    "    rotation_in_degrees = np.rad2deg(rotations_in_radians)\n",
    "    if rotation_in_degrees > 90:\n",
    "        rotation_in_degrees = 180 - rotation_in_degrees\n",
    "\n",
    "\n",
    "    if (eigenvectors[max_eigen_index][0] * eigenvectors[max_eigen_index][1]) > 0:\n",
    "        rotation_in_degrees = -rotation_in_degrees\n",
    "\n",
    "    if verbose:\n",
    "        print(\"Rotating images with the deg\", rotation_in_degrees)\n",
    "        # ski.io.imshow(ski.transform.rotate(image, rotation_in_degrees))\n",
    "\n",
    "    return rotation_in_degrees+90\n",
    "\n",
    "angle = get_rotation_on_image(cropped_exposed_img, verbose=True)\n",
    "rotated_image = ski.transform.rotate(gray_img, angle)\n",
    "cropped_rotated_img = cropp_image(rotated_image, galaxy.center[0], galaxy.center[1], galaxy.radius)\n",
    "resized_cropped_rotated_image = ski.transform.resize(cropped_rotated_img, (128, 128))\n",
    "resized_cropped_rotated_image = ski.exposure.rescale_intensity(resized_cropped_rotated_image)\n",
    "ski.io.imshow(resized_cropped_rotated_image)"
   ]
  },
  {
   "cell_type": "code",
   "execution_count": null,
   "metadata": {},
   "outputs": [],
   "source": [
    "def filter_image(img, verbose=False):\n",
    "    \"\"\"\n",
    "    Very simple function that is only supposed to use already existing functions with minimal interaction to handle a picture.\n",
    "    \n",
    "    It should return true if it's filtered out and false if it's not.\n",
    "    \"\"\"\n",
    "    gray_img = ski.color.rgb2gray(img)\n",
    "    galaxy = find_galaxy(gray_img, window=50, verbose=verbose) \n",
    "    if galaxy is None:\n",
    "        return True\n",
    "    \n",
    "    cropped_img = cropp_image(gray_img, galaxy.center[0], galaxy.center[1], galaxy.radius)\n",
    "    cropped_exposed_img = ski.exposure.rescale_intensity(cropped_img)\n",
    "    return_value = check_for_black_stripe(cropped_exposed_img) ## Not implemented\n",
    "    if return_value is not None:\n",
    "        return True\n",
    "    return False\n",
    "def preprocess_image(img, verbose=False):\n",
    "    \"\"\"\n",
    "    Function that should handle the image and return a cropped and rotated image.\n",
    "    \"\"\"  \n",
    "    gray_img = ski.color.rgb2gray(img)  \n",
    "    cropped_img = cropp_image(gray_img, galaxy.center[0], galaxy.center[1], galaxy.radius)\n",
    "    cropped_exposed_img = ski.exposure.rescale_intensity(cropped_img)\n",
    "    angle = get_rotation_on_image(cropped_exposed_img, verbose=verbose)\n",
    "    rotated_image = ski.transform.rotate(gray_img, angle)\n",
    "    cropped_rotated_img = cropp_image(rotated_image, galaxy.center[0], galaxy.center[1], galaxy.radius)\n",
    "    resized_cropped_rotated_image = ski.transform.resize(cropped_rotated_img, (128, 128))\n",
    "    resized_cropped_rotated_image = ski.exposure.rescale_intensity(resized_cropped_rotated_image)\n"
   ]
  },
  {
   "cell_type": "code",
   "execution_count": null,
   "metadata": {},
   "outputs": [],
   "source": [
    "# FLAGS \n",
    "FILTER_IMAGES = True\n",
    "PREPROCESS_IMAGES = True\n",
    "VERBOSE = True\n",
    "VERBOSE_FUNCTIONS = True\n",
    "# Check if the folder, images_training_subfolder31, exists\n",
    "FOLDER_OF_INTEREST = \"images_training_subfolder31\"\n",
    "\n",
    "if not os.path.isdir(FOLDER_OF_INTEREST):\n",
    "    print(f\"The folder {FOLDER_OF_INTEREST} does not exist. Please download from the Kaggle website and split if needed.\")\n",
    "    raise SystemExit\n",
    "image_collection = ski.io.imread_collection(f\"./{FOLDER_OF_INTEREST}/*.jpg\", conserve_memory=True)\n",
    "for index, image in enumerate(image_collection):\n",
    "    break  # Filter image is not correct as of now.\n",
    "    if VERBOSE:\n",
    "        print(f\"Image[{index}]\")\n",
    "\n",
    "    if FILTER_IMAGES:\n",
    "        return_value = filter_image(image, VERBOSE_FUNCTIONS) \n",
    "        if return_value is True:\n",
    "            if VERBOSE:\n",
    "                print(f\"Image[{index}] was filtered out\")\n",
    "            continue\n",
    "    \n",
    "    if VERBOSE:\n",
    "        print(\"Image passed filter\")\n",
    "\n",
    "    if PREPROCESS_IMAGES:\n",
    "        preprocessed_image = preprocess_image(image, VERBOSE_FUNCTIONS)\n",
    "\n",
    "    if VERBOSE:\n",
    "        print(\"Image was preprocessed\")\n",
    "\n",
    "    ski.io.imshow(preprocessed_image)\n",
    "   \n"
   ]
  },
  {
   "cell_type": "code",
   "execution_count": null,
   "metadata": {},
   "outputs": [],
   "source": [
    "len(image_collection)"
   ]
  },
  {
   "cell_type": "code",
   "execution_count": null,
   "metadata": {},
   "outputs": [],
   "source": []
  }
 ],
 "metadata": {
  "datalore": {
   "base_environment": "default",
   "computation_mode": "JUPYTER",
   "package_manager": "pip",
   "packages": [],
   "report_row_ids": [],
   "version": 3
  },
  "kernelspec": {
   "display_name": "base",
   "language": "python",
   "name": "python3"
  },
  "language_info": {
   "codemirror_mode": {
    "name": "ipython",
    "version": 3
   },
   "file_extension": ".py",
   "mimetype": "text/x-python",
   "name": "python",
   "nbconvert_exporter": "python",
   "pygments_lexer": "ipython3",
   "version": "3.11.6"
  }
 },
 "nbformat": 4,
 "nbformat_minor": 4
}
