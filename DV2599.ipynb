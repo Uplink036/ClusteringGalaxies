{
 "cells": [
  {
   "attachments": {},
   "cell_type": "markdown",
   "metadata": {
    "datalore": {
     "hide_input_from_viewers": true,
     "hide_output_from_viewers": true,
     "node_id": "Rf9PQvvYv2ma08ZLeh0Tiz",
     "type": "MD"
    }
   },
   "source": [
    "- [ ] Import data\n",
    "- [ ] Make into binary, based on a threshold\n",
    "- [ ] Find the brighest row and column, i.e. the galaxu of our pixture. Might be able to use blob from skimage\n",
    "- [ ] Rotate using some sort of PC(A?) to make it easier for our model to handle later. \n",
    "- [ ] Resise somewhere along this list to a format we choose. "
   ]
  },
  {
   "attachments": {},
   "cell_type": "markdown",
   "metadata": {
    "datalore": {
     "hide_input_from_viewers": true,
     "hide_output_from_viewers": true,
     "node_id": "YJ9v4UAKhn89wJYVKW2UGv",
     "type": "MD"
    }
   },
   "source": [
    "# preprocesing\n",
    "- [ ] Check each image and check how many \"blobs\" they have. \n",
    "- [ ] Remove them \n",
    "- [ ] Check how many we have left.  "
   ]
  },
  {
   "attachments": {},
   "cell_type": "markdown",
   "metadata": {
    "datalore": {
     "hide_input_from_viewers": true,
     "hide_output_from_viewers": true,
     "node_id": "To1SUDScKh5TAsaDKj68gB",
     "type": "MD"
    }
   },
   "source": [
    "# Remove images where blob overlap \n",
    "- [ ] Check the rows we get in blob\n",
    "- [ ] Using the middle point and a radius, if two blobs overlap\n",
    "- [ ] We remove that image. "
   ]
  },
  {
   "attachments": {},
   "cell_type": "markdown",
   "metadata": {
    "datalore": {
     "hide_input_from_viewers": true,
     "hide_output_from_viewers": true,
     "node_id": "idogm7aAdAjLzrp92xj8yS",
     "type": "MD"
    }
   },
   "source": []
  },
  {
   "cell_type": "code",
   "execution_count": null,
   "metadata": {},
   "outputs": [],
   "source": [
    "%matplotlib inline"
   ]
  },
  {
   "cell_type": "code",
   "execution_count": null,
   "metadata": {
    "datalore": {
     "hide_input_from_viewers": true,
     "hide_output_from_viewers": true,
     "node_id": "zAz2JxsbJkBf8Sg3SnuHtf",
     "type": "CODE"
    }
   },
   "outputs": [],
   "source": [
    "import skimage as ski\n",
    "import numpy as np\n",
    "import os \n",
    "import sys\n",
    "import matplotlib.pyplot as plt"
   ]
  },
  {
   "cell_type": "code",
   "execution_count": null,
   "metadata": {},
   "outputs": [],
   "source": [
    "def get_image_path(galaxyID, test_true=False, train_true=False):\n",
    "    if galaxyID is None:\n",
    "        return None\n",
    "    if isinstance(galaxyID, int):\n",
    "        galaxyID = str(galaxyID)\n",
    "    # Get the current working directory\n",
    "    current_dir = os.getcwd()\n",
    "    # Search through the subfolders for the image with the same ID\n",
    "    search_dir = current_dir\n",
    "    for root, dirs, files in os.walk(search_dir):\n",
    "        for file in files:\n",
    "            if file.startswith(galaxyID):\n",
    "                return os.path.join(root, file)\n",
    "\n",
    "    # If the image is not found, return None\n",
    "    return None\n"
   ]
  },
  {
   "cell_type": "code",
   "execution_count": null,
   "metadata": {},
   "outputs": [],
   "source": [
    "get_image_path(747207)"
   ]
  },
  {
   "cell_type": "code",
   "execution_count": null,
   "metadata": {
    "datalore": {
     "hide_input_from_viewers": true,
     "hide_output_from_viewers": true,
     "node_id": "GgPHCAp6VeLrODQ7OP9R7l",
     "type": "CODE"
    }
   },
   "outputs": [],
   "source": [
    "\n",
    "\n",
    "# img = ski.io.imread(get_image_path(747207))\n",
    "# img = ski.io.imread(get_image_path(262909))\n",
    "# img = ski.io.imread(get_image_path(312941)) ##outlier, don't change\n",
    "# img = ski.io.imread(get_image_path(732356))\n",
    "# img = ski.io.imread(get_image_path(101151)) ##irregular\n",
    "# img = ski.io.imread(get_image_path(458590)) ## long\n",
    "img = ski.io.imread(get_image_path(459013)) ##overlap\n",
    "# img = ski.io.imread(get_image_path(100295)) ##black stripe\n",
    "# img = ski.io.imread(get_image_path(100774)) ##Ovelap\n",
    "# img = ski.io.imread(get_image_path(100008))\n"
   ]
  },
  {
   "cell_type": "code",
   "execution_count": null,
   "metadata": {
    "datalore": {
     "hide_input_from_viewers": true,
     "hide_output_from_viewers": true,
     "node_id": "ZKLjES56CzsYX7oHp0nGkr",
     "type": "CODE"
    }
   },
   "outputs": [],
   "source": [
    "ski.io.imshow(img)"
   ]
  },
  {
   "cell_type": "code",
   "execution_count": null,
   "metadata": {
    "datalore": {
     "hide_input_from_viewers": true,
     "hide_output_from_viewers": true,
     "node_id": "26LlsNYrn8nDQ7FDERsXdw",
     "type": "CODE"
    }
   },
   "outputs": [],
   "source": [
    "# Ignores colours, as that is mostly a factor of length and the shape of the galaxy is what we are aiming for. \n",
    "gray_img = ski.color.rgb2gray(img)\n",
    "ski.io.imshow(gray_img)"
   ]
  },
  {
   "cell_type": "code",
   "execution_count": null,
   "metadata": {
    "datalore": {
     "hide_input_from_viewers": true,
     "hide_output_from_viewers": true,
     "node_id": "D4zaCkGRce0eKEDS0C7bHc",
     "type": "CODE"
    }
   },
   "outputs": [],
   "source": [
    "class Galaxy:\n",
    "    def __init__(self, x, y, sigma):\n",
    "        self._x = x\n",
    "        self._y = y\n",
    "        self._sigma = sigma\n",
    "    \n",
    "    @property\n",
    "    def center(self):\n",
    "        return [self._x, self._y]\n",
    "    \n",
    "    @property\n",
    "    def radius(self):\n",
    "        factor = np.sqrt(2)\n",
    "        return factor*self._sigma\n",
    "\n",
    "def cropp_image(image, center_x, center_y, radius):\n",
    "    return image[int(center_x-radius):int(center_x+radius), int(center_y-radius):int(center_y+radius)]\n",
    "\n",
    "def overlap(galaxy1:Galaxy, galaxy2:Galaxy, verbose=False):\n",
    "    D = np.sqrt((galaxy1.center[0]-galaxy2.center[0])**2 + (galaxy1.center[1]-galaxy2.center[1])**2)\n",
    "    alpha = np.arccos(abs(galaxy1.center[0]-galaxy2.center[0])/D)\n",
    "    closest_point = [int(galaxy2.center[0] + galaxy2.radius*np.cos(alpha)), int(galaxy2.center[1] + galaxy2.radius*np.sin(alpha))]\n",
    "    if verbose:\n",
    "        print(f\"Closest point: {closest_point}\")\n",
    "        print(f\"Distance: {D}\")\n",
    "        print(f\"Alpha: {alpha}\")\n",
    "        print(f\"Galaxy1 center: {galaxy1.center}\")\n",
    "        print(f\"Galaxy2 center: {galaxy2.center}\")\n",
    "    # Is closest point within the radius of galaxy1?\n",
    "    if np.sqrt((closest_point[0]-galaxy1.center[0])**2 + (closest_point[1]-galaxy1.center[1])**2) < galaxy1.radius:\n",
    "        return True\n",
    "    else:\n",
    "        return False\n",
    "\n",
    "def find_galaxy(image, window, verbose=False):\n",
    "    blobs = ski.feature.blob_doh(image,\n",
    "                                threshold=0.004, \n",
    "                                max_sigma = 100,\n",
    "                                num_sigma=50,\n",
    "                                overlap=1)\n",
    "    if verbose:\n",
    "        print(blobs)\n",
    "    image_center = [image.shape[0]//2, image.shape[1]//2]\n",
    "    found_galaxy = None\n",
    "    largest_sigma = 0\n",
    "    blobs_in_window = []\n",
    "    for b in blobs:\n",
    "        if all(abs(b[i] - image_center[i]) < window for i in range(2)) and b[2] > largest_sigma:\n",
    "            blobs_in_window.append(b)\n",
    "            print(f\"blob considered: {b[1]}, {b[2]}, {b[2]}\")\n",
    "            largest_sigma = b[2]\n",
    "            found_galaxy = b\n",
    "\n",
    "    found_galaxy = Galaxy(found_galaxy[0], found_galaxy[1], found_galaxy[2])\n",
    "\n",
    "    for b in blobs_in_window:\n",
    "        blob = Galaxy(b[0], b[1], b[2])\n",
    "        if blob.center != found_galaxy.center:\n",
    "            # Check if they overlap\n",
    "            if overlap(found_galaxy, blob, verbose=True):\n",
    "                if verbose:\n",
    "                    print(f\"There is overlap. x1={blob.center[0]}, y1={blob.center[1]}\")\n",
    "                return found_galaxy #REMOVE!\n",
    "    return found_galaxy\n",
    "            "
   ]
  },
  {
   "cell_type": "code",
   "execution_count": null,
   "metadata": {
    "datalore": {
     "hide_input_from_viewers": true,
     "hide_output_from_viewers": true,
     "node_id": "MN0tTwY8CY220XKx8TJyZn",
     "type": "CODE"
    }
   },
   "outputs": [],
   "source": [
    "\n",
    "galaxy = find_galaxy(gray_img, window=50, verbose=True)"
   ]
  },
  {
   "cell_type": "code",
   "execution_count": null,
   "metadata": {},
   "outputs": [],
   "source": [
    "def check_for_black_stripe(image):\n",
    "    # If there is at least 10 dark pixels in a row of any angle that are surrounded by light pixels, then there is a black stripe\n",
    "    # image is cropped and gray scaled\n",
    "\n",
    "    dark_pixel_threshold = 0.1\n",
    "    dark_pixel_count_threshold = 15\n",
    "    bright_pixel_threshold = 0.2\n",
    "\n",
    "    dark_pixels = []\n",
    "    for i in range(image.shape[0]):\n",
    "        for j in range(image.shape[1]):\n",
    "            if image[i][j] < dark_pixel_threshold:\n",
    "                dark_pixels.append([i,j])\n",
    "    \n",
    "    bright_pixels = []\n",
    "    for i in range(image.shape[0]):\n",
    "        for j in range(image.shape[1]):\n",
    "            if image[i][j] > bright_pixel_threshold:\n",
    "                bright_pixels.append([i,j])\n",
    "\n",
    "\n",
    "    suspicious_pixels = []\n",
    "    # Look at a window around each dark pixel\n",
    "    # If the mean of the pixels in the window is above the bright pixel threshold, add it to the list of suspicious pixels\n",
    "    for pixel in dark_pixels:\n",
    "        window = 5\n",
    "        window_pixels = []\n",
    "        for i in range(pixel[0]-window, pixel[0]+window):\n",
    "            for j in range(pixel[1]-window, pixel[1]+window):\n",
    "                if i >= 0 and i < image.shape[0] and j >= 0 and j < image.shape[1]:\n",
    "                    window_pixels.append(image[i][j])\n",
    "        if np.mean(window_pixels) > bright_pixel_threshold:\n",
    "            suspicious_pixels.append(pixel)\n",
    "\n",
    "    # Plot the suspicious pixels onto the image\n",
    "\n",
    "    #Plot the dark pixels onto the image\n",
    "    ski.io.imshow(image)\n",
    "    \n",
    "    for pixel in bright_pixels:\n",
    "        plt.plot(pixel[1], pixel[0], 'bo')\n",
    "    for pixel in dark_pixels:\n",
    "        plt.plot(pixel[1], pixel[0], 'ro')\n",
    "    for pixel in suspicious_pixels:\n",
    "        plt.plot(pixel[1], pixel[0], 'go')\n",
    "    plt.show()\n",
    "\n",
    "    # How many suspicious pixels are there?\n",
    "    if len(suspicious_pixels) > dark_pixel_count_threshold:\n",
    "        # Do linear regression on the suspicious pixels\n",
    "        # If the R^2 value is high, then there is a black stripe\n",
    "\n",
    "        # Get the x and y values of the suspicious pixels\n",
    "        x = []\n",
    "        y = []\n",
    "        for pixel in suspicious_pixels:\n",
    "            x.append(pixel[0])\n",
    "            y.append(pixel[1])\n",
    "        # Do linear regression with numpy\n",
    "        slope, intercept = np.polyfit(x, y, 1)\n",
    "        #Plot the line\n",
    "        plt.plot(x, y, 'ro')\n",
    "        plt.plot(x, [slope*x[i] + intercept for i in range(len(x))], 'b')\n",
    "        plt.show()\n",
    "        # Get the R^2 value\n",
    "        r_squared = np.corrcoef(x, y)[0,1]**2\n",
    "        # If the R^2 value is high, then there is a black stripe\n",
    "        print(f\"R^2 = {r_squared}\")\n",
    "        if r_squared > 0.7:\n",
    "            print(\"Black Stripe found\")\n",
    "            return True\n",
    "        else:\n",
    "            print(\"Black Stripe was not found\")\n",
    "            return False\n",
    "    else:\n",
    "        return False"
   ]
  },
  {
   "cell_type": "code",
   "execution_count": null,
   "metadata": {
    "datalore": {
     "hide_input_from_viewers": true,
     "hide_output_from_viewers": true,
     "node_id": "6Fn1cLlYCiAuCAcTEwf5XR",
     "type": "CODE"
    }
   },
   "outputs": [],
   "source": [
    "cropped_img = cropp_image(gray_img, galaxy.center[0], galaxy.center[1], galaxy.radius)\n",
    "cropped_exposed_img = ski.exposure.rescale_intensity(cropped_img)\n",
    "ski.io.imshow(cropped_exposed_img)\n"
   ]
  },
  {
   "cell_type": "code",
<<<<<<< HEAD
   "execution_count": 30,
   "metadata": {},
   "outputs": [
   "source": [
    "check_for_black_stripe(cropped_exposed_img)"
   ]
  {
   "cell_type": "code",
<<<<<<< HEAD
   "execution_count": 31,
=======
   "execution_count": null,
>>>>>>> 497e58d2e30639dd93d958f7964885a13a92233a
   "metadata": {
    "datalore": {
     "hide_input_from_viewers": true,
     "hide_output_from_viewers": true,
     "node_id": "HMqMpWTrd5SCXo6fkonbyF",
     "type": "CODE"
    }
   },
   "outputs": [],
   "source": [
    "def get_covariance_matrix(image, x_size, y_size):\n",
    "    coord_rows = []\n",
    "    coord_columns = []\n",
    "    for index_row in range(0, x_size):\n",
    "        for index_column in range(0, y_size):\n",
    "            if image[index_row][index_column] == 1:\n",
    "                coord_rows.append(index_row)\n",
    "                coord_columns.append(index_column)\n",
    "    cov_matrix = np.cov(coord_rows, y=coord_columns)\n",
    "    return cov_matrix\n"
   ]
  },
  {
   "cell_type": "code",
<<<<<<< HEAD
   "execution_count": 35,
=======
   "execution_count": null,
>>>>>>> 497e58d2e30639dd93d958f7964885a13a92233a
   "metadata": {
    "datalore": {
     "hide_input_from_viewers": true,
     "hide_output_from_viewers": true,
     "node_id": "8jUeutfRNQNbv2iuFFi93m",
     "type": "CODE"
    }
   },
<<<<<<< HEAD
   "outputs": [
    {
     "name": "stdout",
     "output_type": "stream",
     "text": [
      "cov_matrix[0] = \t[89.72980486002233, 61.39920781564493]\n",
      "cov_matrix[1] = \t[61.39920781564493, 240.27840687707868]\n",
      "Eigenvalues     = \t[67.86460251017802, 262.143609226923]\n",
      "eigenvectors[0] = \t[-0.9420481048079861, 0.3354778207686489]\n",
      "eigenvectors[1] = \t[0.3354778207686489, 0.9420481048079861]\n",
      "0.3354778207686489\n",
      "0.3354778207686489\n",
      "Rotating images with the deg -70.3984034094526\n"
     ]
    },
    {
     "data": {
      "text/plain": [
       "<matplotlib.image.AxesImage at 0xffff35eca9d0>"
      ]
     },
     "execution_count": 35,
     "metadata": {},
     "output_type": "execute_result"
    },
    {
     "data": {
      "image/png": "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",
      "text/plain": [
       "<Figure size 640x480 with 1 Axes>"
      ]
     },
     "metadata": {},
     "output_type": "display_data"
    }
   ],
=======
   "outputs": [],
>>>>>>> 497e58d2e30639dd93d958f7964885a13a92233a
   "source": [
    "def get_rotation_on_image(image, verbose=False):\n",
    "    binary_image = ski.util.img_as_bool(image)\n",
    "    if verbose:\n",
    "        ski.io.imshow(binary_image)\n",
    "        pass\n",
    "    \n",
    "    cov_matrix = get_covariance_matrix(binary_image, len(binary_image), len(binary_image[0]))\n",
    "    \n",
    "    if verbose:\n",
    "        print(f\"cov_matrix[0] = \\t[{cov_matrix[0][0]}, {cov_matrix[0][1]}]\")\n",
    "        print(f\"cov_matrix[1] = \\t[{cov_matrix[1][0]}, {cov_matrix[1][1]}]\")\n",
    "    result = np.linalg.eigh(cov_matrix)\n",
    "    eigenvalues = result[0]\n",
    "    eigenvectors = result[1]\n",
    "\n",
    "    \n",
    "    max_eigen_index, = np.where(np.isclose(eigenvalues, max(eigenvalues)))[0]\n",
    "    if verbose:\n",
    "        print(f\"Eigenvalues     = \\t[{eigenvalues[0]}, {eigenvalues[1]}]\")\n",
    "        print(f\"eigenvectors[0] = \\t[{eigenvectors[0][0]}, {eigenvectors[0][1]}]\")\n",
    "        print(f\"eigenvectors[1] = \\t[{eigenvectors[1][0]}, {eigenvectors[1][1]}]\")\n",
    "        print(eigenvectors[max_eigen_index][0])\n",
    "        print(eigenvectors[(max_eigen_index+1)%2][1])\n",
    "    rotations_in_radians = np.arccos((eigenvectors[max_eigen_index][0]+eigenvectors[(max_eigen_index+1)%2][1]) / 2)\n",
    "    rotation_in_degrees = np.rad2deg(rotations_in_radians)\n",
    "    if rotation_in_degrees > 90:\n",
    "        rotation_in_degrees = 180 - rotation_in_degrees\n",
    "\n",
    "\n",
    "    if (eigenvectors[max_eigen_index][0] * eigenvectors[max_eigen_index][1]) > 0:\n",
    "        rotation_in_degrees = -rotation_in_degrees\n",
    "\n",
    "    if verbose:\n",
    "        print(\"Rotating images with the deg\", rotation_in_degrees)\n",
    "        # ski.io.imshow(ski.transform.rotate(image, rotation_in_degrees))\n",
    "\n",
    "    return rotation_in_degrees+90\n",
    "\n",
    "angle = get_rotation_on_image(cropped_exposed_img, verbose=True)\n",
    "rotated_image = ski.transform.rotate(gray_img, angle)\n",
    "cropped_rotated_img = cropp_image(rotated_image, galaxy.center[0], galaxy.center[1], galaxy.radius)\n",
    "resized_cropped_rotated_image = ski.transform.resize(cropped_rotated_img, (128, 128))\n",
    "resized_cropped_rotated_image = ski.exposure.rescale_intensity(resized_cropped_rotated_image)\n",
    "ski.io.imshow(resized_cropped_rotated_image)"
   ]
  },
  {
   "cell_type": "code",
<<<<<<< HEAD
   "execution_count": 33,
   "metadata": {
    "datalore": {
     "hide_input_from_viewers": true,
     "hide_output_from_viewers": true,
     "node_id": "h5xuOI0KfGxcGmJhlMBxUn",
     "type": "CODE"
    }
   },
   "outputs": [
    {
     "name": "stdout",
     "output_type": "stream",
     "text": [
      "Hello\n"
     ]
    },
    {
     "ename": "SystemExit",
     "evalue": "",
     "output_type": "error",
     "traceback": [
      "An exception has occurred, use %tb to see the full traceback.\n",
      "\u001b[0;31mSystemExit\u001b[0m\n"
     ]
    }
   ],
=======
   "execution_count": null,
   "metadata": {},
   "outputs": [],
>>>>>>> 497e58d2e30639dd93d958f7964885a13a92233a
   "source": [
    "print(\"Hello\")\n",
    "raise SystemExit\n",
    "print(\"This should not run\")"
   ]
<<<<<<< HEAD
=======
  },
  {
   "cell_type": "code",
   "execution_count": null,
   "metadata": {},
   "outputs": [],
   "source": [
    "# FLAGS \n",
    "FILTER_IMAGES = True\n",
    "PREPROCESS_IMAGES = True\n",
    "VERBOSE = True\n",
    "VERBOSE_FUNCTIONS = True\n",
    "# Check if the folder, images_training_subfolder31, exists\n",
    "FOLDER_OF_INTEREST = \"images_training_subfolder31\"\n",
    "\n",
    "if not os.path.isdir(FOLDER_OF_INTEREST):\n",
    "    print(f\"The folder {FOLDER_OF_INTEREST} does not exist. Please download from the Kaggle website and split if needed.\")\n",
    "    raise SystemExit\n",
    "image_collection = ski.io.imread_collection(f\"./{FOLDER_OF_INTEREST}/*.jpg\", conserve_memory=True)\n",
    "for index, image in enumerate(image_collection):\n",
    "    break  # Filter image is not correct as of now.\n",
    "    if VERBOSE:\n",
    "        print(f\"Image[{index}]\")\n",
    "\n",
    "    if FILTER_IMAGES:\n",
    "        return_value = filter_image(image, VERBOSE_FUNCTIONS) \n",
    "        if return_value is True:\n",
    "            if VERBOSE:\n",
    "                print(f\"Image[{index}] was filtered out\")\n",
    "            continue\n",
    "    \n",
    "    if VERBOSE:\n",
    "        print(\"Image passed filter\")\n",
    "\n",
    "    if PREPROCESS_IMAGES:\n",
    "        preprocessed_image = preprocess_image(image, VERBOSE_FUNCTIONS)\n",
    "\n",
    "    if VERBOSE:\n",
    "        print(\"Image was preprocessed\")\n",
    "\n",
    "    ski.io.imshow(preprocessed_image)\n",
    "   \n"
   ]
  },
  {
   "cell_type": "code",
   "execution_count": null,
   "metadata": {},
   "outputs": [],
   "source": [
    "len(image_collection)"
   ]
  },
  {
   "cell_type": "code",
   "execution_count": null,
   "metadata": {},
   "outputs": [],
   "source": []
>>>>>>> 497e58d2e30639dd93d958f7964885a13a92233a
  }
 ],
 "metadata": {
  "datalore": {
   "base_environment": "default",
   "computation_mode": "JUPYTER",
   "package_manager": "pip",
   "packages": [],
   "report_row_ids": [],
   "version": 3
  },
  "kernelspec": {
   "display_name": "base",
   "language": "python",
   "name": "python3"
  },
  "language_info": {
   "codemirror_mode": {
    "name": "ipython",
    "version": 3
   },
   "file_extension": ".py",
   "mimetype": "text/x-python",
   "name": "python",
   "nbconvert_exporter": "python",
   "pygments_lexer": "ipython3",
   "version": "3.11.5"
  }
 },
 "nbformat": 4,
 "nbformat_minor": 4
}
