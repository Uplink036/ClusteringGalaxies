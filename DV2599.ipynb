{
 "cells": [
  {
   "attachments": {},
   "cell_type": "markdown",
   "metadata": {
    "datalore": {
     "hide_input_from_viewers": true,
     "hide_output_from_viewers": true,
     "node_id": "Rf9PQvvYv2ma08ZLeh0Tiz",
     "type": "MD"
    }
   },
   "source": [
    "- [ ] Import data\n",
    "- [ ] Make into binary, based on a threshold\n",
    "- [ ] Find the brighest row and column, i.e. the galaxu of our pixture. Might be able to use blob from skimage\n",
    "- [ ] Rotate using some sort of PC(A?) to make it easier for our model to handle later. \n",
    "- [ ] Resise somewhere along this list to a format we choose. "
   ]
  },
  {
   "attachments": {},
   "cell_type": "markdown",
   "metadata": {
    "datalore": {
     "hide_input_from_viewers": true,
     "hide_output_from_viewers": true,
     "node_id": "YJ9v4UAKhn89wJYVKW2UGv",
     "type": "MD"
    }
   },
   "source": [
    "# preprocesing\n",
    "- [ ] Check each image and check how many \"blobs\" they have. \n",
    "- [ ] Remove them \n",
    "- [ ] Check how many we have left.  "
   ]
  },
  {
   "attachments": {},
   "cell_type": "markdown",
   "metadata": {
    "datalore": {
     "hide_input_from_viewers": true,
     "hide_output_from_viewers": true,
     "node_id": "To1SUDScKh5TAsaDKj68gB",
     "type": "MD"
    }
   },
   "source": [
    "# Remove images where blob overlap \n",
    "- [ ] Check the rows we get in blob\n",
    "- [ ] Using the middle point and a radius, if two blobs overlap\n",
    "- [ ] We remove that image. "
   ]
  },
  {
   "attachments": {},
   "cell_type": "markdown",
   "metadata": {
    "datalore": {
     "hide_input_from_viewers": true,
     "hide_output_from_viewers": true,
     "node_id": "idogm7aAdAjLzrp92xj8yS",
     "type": "MD"
    }
   },
   "source": []
  },
  {
   "cell_type": "code",
   "execution_count": 16,
   "metadata": {},
   "outputs": [],
   "source": [
    "%matplotlib inline"
   ]
  },
  {
   "cell_type": "code",
   "execution_count": 17,
   "metadata": {
    "datalore": {
     "hide_input_from_viewers": true,
     "hide_output_from_viewers": true,
     "node_id": "zAz2JxsbJkBf8Sg3SnuHtf",
     "type": "CODE"
    }
   },
   "outputs": [],
   "source": [
    "import skimage as ski\n",
    "import numpy as np\n",
    "import os \n",
    "import sys\n",
    "import matplotlib.pyplot as plt"
   ]
  },
  {
   "cell_type": "code",
   "execution_count": 18,
   "metadata": {},
   "outputs": [],
   "source": [
    "def get_image_path(galaxyID, test_true=False, train_true=False):\n",
    "    if galaxyID is None:\n",
    "        return None\n",
    "    if isinstance(galaxyID, int):\n",
    "        galaxyID = str(galaxyID)\n",
    "    # Get the current working directory\n",
    "    current_dir = os.getcwd()\n",
    "    # Search through the subfolders for the image with the same ID\n",
    "    search_dir = current_dir\n",
    "    for root, dirs, files in os.walk(search_dir):\n",
    "        for file in files:\n",
    "            if file.startswith(galaxyID):\n",
    "                return os.path.join(root, file)\n",
    "\n",
    "    # If the image is not found, return None\n",
    "    return None\n"
   ]
  },
  {
   "cell_type": "code",
   "execution_count": 19,
   "metadata": {},
   "outputs": [],
   "source": [
    "# get_image_path(747207)"
   ]
  },
  {
   "cell_type": "code",
   "execution_count": 20,
   "metadata": {
    "datalore": {
     "hide_input_from_viewers": true,
     "hide_output_from_viewers": true,
     "node_id": "GgPHCAp6VeLrODQ7OP9R7l",
     "type": "CODE"
    }
   },
   "outputs": [],
   "source": [
    "\n",
    "\n",
    "# img = ski.io.imread(get_image_path(747207))\n",
    "# img = ski.io.imread(get_image_path(262909))\n",
    "# img = ski.io.imread(get_image_path(312941)) ##outlier, don't change\n",
    "# img = ski.io.imread(get_image_path(732356))\n",
    "# img = ski.io.imread(get_image_path(101151)) ##irregular\n",
    "# img = ski.io.imread(get_image_path(458590)) ## long\n",
    "# img = ski.io.imread(get_image_path(459014)) ##overlap\n",
    "# img = ski.io.imread(get_image_path(856044)) ##overlap\n",
    "# img = ski.io.imread(get_image_path(856535)) ##overlap\n",
    "# img = ski.io.imread(get_image_path(100295)) ##black stripe\n",
    "# img = ski.io.imread(get_image_path(856758)) ##black stripe\n",
    "# img = ski.io.imread(get_image_path(775905)) ##very inactive galaxy\n",
    "# img = ski.io.imread(get_image_path(744265)) ##very bright background\n",
    "# img = ski.io.imread(get_image_path(100008))\n"
   ]
  },
  {
   "cell_type": "code",
   "execution_count": null,
   "metadata": {},
   "outputs": [],
   "source": []
  },
  {
   "cell_type": "code",
   "execution_count": 21,
   "metadata": {
    "datalore": {
     "hide_input_from_viewers": true,
     "hide_output_from_viewers": true,
     "node_id": "mO5wDsWOaH9RXAFxfMeODe",
     "type": "CODE"
    }
   },
   "outputs": [],
   "source": [
    "# print(\"Hello\")\n",
    "# raise SystemExit\n",
    "# image_collection = ski.io.imread_collection('/images_training_rev1/*.jpg', conserve_memory=True)\n",
    "# print(\"This should not run\")"
   ]
  },
  {
   "cell_type": "code",
   "execution_count": 22,
   "metadata": {
    "datalore": {
     "hide_input_from_viewers": true,
     "hide_output_from_viewers": true,
     "node_id": "D4zaCkGRce0eKEDS0C7bHc",
     "type": "CODE"
    }
   },
   "outputs": [],
   "source": [
    "class Galaxy:\n",
    "    def __init__(self, x, y, sigma):\n",
    "        self._x = x\n",
    "        self._y = y\n",
    "        self._sigma = sigma\n",
    "    \n",
    "    @property\n",
    "    def center(self):\n",
    "        return [self._x, self._y]\n",
    "    \n",
    "    @property\n",
    "    def radius(self):\n",
    "        factor = np.sqrt(2)\n",
    "        return factor*self._sigma\n",
    "\n",
    "def cropp_image(image, center_x, center_y, radius):\n",
    "    return image[int(center_x-radius):int(center_x+radius), int(center_y-radius):int(center_y+radius)]\n",
    "\n",
    "def overlap(image, galaxy1:Galaxy, galaxy2:Galaxy, verbose=False):\n",
    "    top_galaxy, bottom_galaxy = (galaxy1, galaxy2) if galaxy1.center[1] > galaxy2.center[1] else (galaxy2, galaxy1) \n",
    "    # top_galaxy will be the one most to the bottom of the pictures\n",
    "    # This is because of the pixel coordinates, where the y-axis is inverted\n",
    "    \n",
    "    D = np.sqrt((top_galaxy.center[0]-bottom_galaxy.center[0])**2 + (top_galaxy.center[1]-bottom_galaxy.center[1])**2)\n",
    "    alpha = np.arcsin((top_galaxy.center[0]-bottom_galaxy.center[0])/D)\n",
    "\n",
    "    if top_galaxy.center[0] < bottom_galaxy.center[0]:\n",
    "        alpha = np.pi/2+alpha\n",
    "    else:\n",
    "        alpha = np.pi/2+alpha\n",
    "\n",
    "    closest_point = [int(top_galaxy.center[0] + top_galaxy.radius*np.cos(alpha)), int(top_galaxy.center[1] - top_galaxy.radius*np.sin(alpha))]\n",
    "    if verbose:\n",
    "        print(f\"Closest point: {closest_point}\")\n",
    "        print(f\"Distance: {D}\")\n",
    "        print(f\"Alpha: {alpha/np.pi*180} degrees\")\n",
    "        print(f\"Top Galaxy center: {top_galaxy.center}\")\n",
    "        print(f\"Bottom Galaxy center: {bottom_galaxy.center}\")\n",
    "\n",
    "        #plot the two galaxies\n",
    "        ski.io.imshow(image)\n",
    "        plt.plot(top_galaxy.center[0], top_galaxy.center[1], 'go')\n",
    "        plt.plot(bottom_galaxy.center[0], bottom_galaxy.center[1], 'go')\n",
    "        #plot the closest point onto the image\n",
    "   \n",
    "        plt.plot(closest_point[0], closest_point[1], 'ro')\n",
    "        \n",
    "        plt.plot([top_galaxy.center[0], bottom_galaxy.center[0]], [top_galaxy.center[1], bottom_galaxy.center[1]], 'r-')\n",
    "        plt.show()\n",
    "    if np.sqrt((closest_point[0]-bottom_galaxy.center[0])**2 + (closest_point[1]-bottom_galaxy.center[1])**2) < bottom_galaxy.radius:\n",
    "        return True\n",
    "    else:\n",
    "        return False\n",
    "\n",
    "def find_galaxy(image, window, verbose=False):\n",
    "    blobs = ski.feature.blob_doh(image,\n",
    "                                threshold=0.004, \n",
    "                                max_sigma = 100,\n",
    "                                overlap=1)\n",
    "    if verbose:\n",
    "        print(blobs)\n",
    "    image_center = [image.shape[0]//2, image.shape[1]//2]\n",
    "    found_galaxy = None\n",
    "    largest_sigma = 0\n",
    "    blobs_in_window = []\n",
    "    for b in blobs:\n",
    "        if all(abs(b[i] - image_center[i]) < window for i in range(2)) and b[2] > largest_sigma:\n",
    "            blobs_in_window.append(b)\n",
    "            largest_sigma = b[2]\n",
    "            found_galaxy = b\n",
    "\n",
    "    if found_galaxy is None:\n",
    "        return None\n",
    "        \n",
    "    found_galaxy = Galaxy(found_galaxy[1], found_galaxy[0], found_galaxy[2])\n",
    "\n",
    "    for b in blobs:\n",
    "        blob = Galaxy(b[1], b[0], b[2])\n",
    "        if blob.center != found_galaxy.center:\n",
    "            # Check if they overlap\n",
    "            if overlap(image, found_galaxy, blob, verbose=verbose):\n",
    "                if verbose:\n",
    "                    print(f\"There is overlap between {found_galaxy.center} and {blob.center}\")\n",
    "                return False\n",
    "    return found_galaxy\n",
    "            "
   ]
  },
  {
   "cell_type": "code",
   "execution_count": 23,
   "metadata": {},
   "outputs": [],
   "source": [
    "def check_for_black_stripe(image, verbose=False):\n",
    "    # If there is at least 10 dark pixels in a row of any angle that are surrounded by light pixels, then there is a black stripe\n",
    "    # image is cropped and gray scaled\n",
    "\n",
    "    dark_pixel_threshold = 0.1\n",
    "    dark_pixel_count_threshold = 15\n",
    "    bright_pixel_threshold = 0.2\n",
    "\n",
    "    dark_pixels = []\n",
    "    for i in range(image.shape[0]):\n",
    "        for j in range(image.shape[1]):\n",
    "            if image[i][j] < dark_pixel_threshold:\n",
    "                dark_pixels.append([i,j])\n",
    "    \n",
    "    bright_pixels = []\n",
    "    for i in range(image.shape[0]):\n",
    "        for j in range(image.shape[1]):\n",
    "            if image[i][j] > bright_pixel_threshold:\n",
    "                bright_pixels.append([i,j])\n",
    "\n",
    "\n",
    "    suspicious_pixels = []\n",
    "    # Look at a window around each dark pixel\n",
    "    # If the mean of the pixels in the window is above the bright pixel threshold, add it to the list of suspicious pixels\n",
    "    for pixel in dark_pixels:\n",
    "        window = 5\n",
    "        window_pixels = []\n",
    "        for i in range(pixel[0]-window, pixel[0]+window):\n",
    "            for j in range(pixel[1]-window, pixel[1]+window):\n",
    "                if i >= 0 and i < image.shape[0] and j >= 0 and j < image.shape[1]:\n",
    "                    window_pixels.append(image[i][j])\n",
    "        if np.mean(window_pixels) > bright_pixel_threshold:\n",
    "            suspicious_pixels.append(pixel)\n",
    "\n",
    "    #Plot the dark pixels onto the image\n",
    "    if verbose:\n",
    "        ski.io.imshow(image)\n",
    "        \n",
    "        for pixel in bright_pixels:\n",
    "            plt.plot(pixel[1], pixel[0], 'bo')\n",
    "        for pixel in dark_pixels:\n",
    "            plt.plot(pixel[1], pixel[0], 'ro')\n",
    "        for pixel in suspicious_pixels:\n",
    "            plt.plot(pixel[1], pixel[0], 'go')\n",
    "        plt.show()\n",
    "\n",
    "    # How many suspicious pixels are there?\n",
    "    if len(suspicious_pixels) > dark_pixel_count_threshold:\n",
    "        # Do linear regression on the suspicious pixels\n",
    "        # If the R^2 value is high, then there is a black stripe\n",
    "\n",
    "        # Get the x and y values of the suspicious pixels\n",
    "        x = []\n",
    "        y = []\n",
    "        for pixel in suspicious_pixels:\n",
    "            x.append(pixel[0])\n",
    "            y.append(pixel[1])\n",
    "        # Do linear regression with numpy\n",
    "        slope, intercept = np.polyfit(x, y, 1)\n",
    "        #Plot the line\n",
    "        if verbose:\n",
    "            plt.plot(x, y, 'ro')\n",
    "            plt.plot(x, [slope*x[i] + intercept for i in range(len(x))], 'b')\n",
    "            plt.show()\n",
    "        # Get the R^2 value\n",
    "        r_squared = np.corrcoef(x, y)[0,1]**2\n",
    "        # If the R^2 value is high, then there is a black stripe\n",
    "        print(f\"R^2 = {r_squared}\")\n",
    "        if r_squared > 0.7:\n",
    "            print(\"Black Stripe found\")\n",
    "            return True\n",
    "        else:\n",
    "            print(\"Black Stripe was not found\")\n",
    "            return False\n",
    "    else:\n",
    "        return False"
   ]
  },
  {
   "cell_type": "code",
   "execution_count": 24,
   "metadata": {
    "datalore": {
     "hide_input_from_viewers": true,
     "hide_output_from_viewers": true,
     "node_id": "HMqMpWTrd5SCXo6fkonbyF",
     "type": "CODE"
    }
   },
   "outputs": [],
   "source": [
    "def get_covariance_matrix(image, x_size, y_size):\n",
    "    coord_rows = []\n",
    "    coord_columns = []\n",
    "    for index_row in range(0, x_size):\n",
    "        for index_column in range(0, y_size):\n",
    "            if image[index_row][index_column] == 1:\n",
    "                coord_rows.append(index_row)\n",
    "                coord_columns.append(index_column)\n",
    "    cov_matrix = np.cov(coord_rows, y=coord_columns)\n",
    "    return cov_matrix\n"
   ]
  },
  {
   "cell_type": "code",
   "execution_count": 25,
   "metadata": {
    "datalore": {
     "hide_input_from_viewers": true,
     "hide_output_from_viewers": true,
     "node_id": "8jUeutfRNQNbv2iuFFi93m",
     "type": "CODE"
    }
   },
   "outputs": [],
   "source": [
    "def get_rotation_on_image(image, verbose=False):\n",
    "    binary_image = ski.util.img_as_bool(image)\n",
    "    if verbose:\n",
    "        ski.io.imshow(binary_image)\n",
    "        pass\n",
    "    \n",
    "    cov_matrix = get_covariance_matrix(binary_image, len(binary_image), len(binary_image[0]))\n",
    "    \n",
    "    if verbose:\n",
    "        print(f\"cov_matrix[0] = \\t[{cov_matrix[0][0]}, {cov_matrix[0][1]}]\")\n",
    "        print(f\"cov_matrix[1] = \\t[{cov_matrix[1][0]}, {cov_matrix[1][1]}]\")\n",
    "    result = np.linalg.eigh(cov_matrix)\n",
    "    eigenvalues = result[0]\n",
    "    eigenvectors = result[1]\n",
    "\n",
    "    \n",
    "    max_eigen_index, = np.where(np.isclose(eigenvalues, max(eigenvalues)))[0]\n",
    "    if verbose:\n",
    "        print(f\"Eigenvalues     = \\t[{eigenvalues[0]}, {eigenvalues[1]}]\")\n",
    "        print(f\"eigenvectors[0] = \\t[{eigenvectors[0][0]}, {eigenvectors[0][1]}]\")\n",
    "        print(f\"eigenvectors[1] = \\t[{eigenvectors[1][0]}, {eigenvectors[1][1]}]\")\n",
    "        print(eigenvectors[max_eigen_index][0])\n",
    "        print(eigenvectors[(max_eigen_index+1)%2][1])\n",
    "    rotations_in_radians = np.arccos((eigenvectors[max_eigen_index][0]+eigenvectors[(max_eigen_index+1)%2][1]) / 2)\n",
    "    rotation_in_degrees = np.rad2deg(rotations_in_radians)\n",
    "    if rotation_in_degrees > 90:\n",
    "        rotation_in_degrees = 180 - rotation_in_degrees\n",
    "\n",
    "\n",
    "    if (eigenvectors[max_eigen_index][0] * eigenvectors[max_eigen_index][1]) > 0:\n",
    "        rotation_in_degrees = -rotation_in_degrees\n",
    "\n",
    "    if verbose:\n",
    "        print(\"Rotating images with the deg\", rotation_in_degrees)\n",
    "        # ski.io.imshow(ski.transform.rotate(image, rotation_in_degrees))\n",
    "\n",
    "    return rotation_in_degrees+90\n"
   ]
  },
  {
   "cell_type": "code",
   "execution_count": 26,
   "metadata": {},
   "outputs": [],
   "source": [
    "def filter_image(img, verbose=False):\n",
    "    \"\"\"\n",
    "    Very simple function that is only supposed to use already existing functions with minimal interaction to handle a picture.\n",
    "    \n",
    "    It should return true if it's filtered out and false if it's not.\n",
    "    \"\"\"\n",
    "    gray_img = ski.color.rgb2gray(img)\n",
    "    galaxy = find_galaxy(gray_img, window=50, verbose=verbose) \n",
    "    if galaxy is None or galaxy is False:\n",
    "        return True\n",
    "    \n",
    "    cropped_img = cropp_image(gray_img, galaxy.center[0], galaxy.center[1], galaxy.radius)\n",
    "    cropped_exposed_img = ski.exposure.rescale_intensity(cropped_img)\n",
    "    return_value = check_for_black_stripe(cropped_exposed_img, verbose=verbose) ## Not implemented\n",
    "    if return_value is True:\n",
    "        return True\n",
    "        \n",
    "    return galaxy\n",
    "\n",
    "def preprocess_image(img, galaxy, verbose=False):\n",
    "    \"\"\"\n",
    "    Function that should handle the image and return a cropped and rotated image.\n",
    "    \"\"\"  \n",
    "    gray_img = ski.color.rgb2gray(img)  \n",
    "    cropped_img = cropp_image(gray_img, galaxy.center[0], galaxy.center[1], galaxy.radius)\n",
    "    cropped_exposed_img = ski.exposure.rescale_intensity(cropped_img)\n",
    "    angle = get_rotation_on_image(cropped_exposed_img, verbose=verbose)\n",
    "    rotated_image = ski.transform.rotate(gray_img, angle)\n",
    "    cropped_rotated_img = cropp_image(rotated_image, galaxy.center[0], galaxy.center[1], galaxy.radius)\n",
    "    resized_cropped_rotated_image = ski.transform.resize(cropped_rotated_img, (128, 128))\n",
    "    resized_cropped_rotated_image = ski.exposure.rescale_intensity(resized_cropped_rotated_image)\n",
    "    return resized_cropped_rotated_image\n"
   ]
  },
  {
   "cell_type": "code",
   "execution_count": 27,
   "metadata": {},
   "outputs": [
    {
     "name": "stdout",
     "output_type": "stream",
     "text": [
      "Image[0] = 976602\n",
      "Image[0]\n",
      "Image passed filter\n",
      "Image was preprocessed\n",
      "Image[1] = 976607\n",
      "Image[1]\n",
      "Image passed filter\n",
      "Image was preprocessed\n",
      "Image[2] = 976620\n",
      "Image[2]\n",
      "Image[2] was filtered out\n",
      "Image[3] = 976623\n",
      "Image[3]\n"
     ]
    },
    {
     "name": "stderr",
     "output_type": "stream",
     "text": [
      "/opt/conda/lib/python3.11/site-packages/skimage/io/_plugins/matplotlib_plugin.py:162: UserWarning: The figure layout has changed to tight\n",
      "  ax.get_figure().tight_layout()\n"
     ]
    },
    {
     "name": "stdout",
     "output_type": "stream",
     "text": [
      "Image passed filter\n",
      "Image was preprocessed\n",
      "Image[4] = 976632\n",
      "Image[4]\n",
      "Image passed filter\n",
      "Image was preprocessed\n",
      "Image[5] = 976634\n",
      "Image[5]\n",
      "Image passed filter\n",
      "Image was preprocessed\n",
      "Image[6] = 976637\n",
      "Image[6]\n",
      "Image passed filter\n",
      "Image was preprocessed\n",
      "Image[7] = 976669\n",
      "Image[7]\n",
      "Image passed filter\n",
      "Image was preprocessed\n",
      "Image[8] = 976672\n",
      "Image[8]\n",
      "Image[8] was filtered out\n",
      "Image[9] = 976703\n",
      "Image[9]\n",
      "Image passed filter\n",
      "Image was preprocessed\n",
      "Image[10] = 976707\n",
      "Image[10]\n",
      "Image passed filter\n",
      "Image was preprocessed\n",
      "Image[11] = 976713\n",
      "Image[11]\n",
      "Image passed filter\n",
      "Image was preprocessed\n",
      "Image[12] = 976725\n",
      "Image[12]\n",
      "Image passed filter\n",
      "Image was preprocessed\n"
     ]
    },
    {
     "ename": "KeyboardInterrupt",
     "evalue": "",
     "output_type": "error",
     "traceback": [
      "\u001b[0;31m---------------------------------------------------------------------------\u001b[0m",
      "\u001b[0;31mKeyboardInterrupt\u001b[0m                         Traceback (most recent call last)",
      "Cell \u001b[0;32mIn[27], line 45\u001b[0m\n\u001b[1;32m     42\u001b[0m \u001b[38;5;28;01mif\u001b[39;00m VERBOSE:\n\u001b[1;32m     43\u001b[0m     \u001b[38;5;28mprint\u001b[39m(\u001b[38;5;124m\"\u001b[39m\u001b[38;5;124mImage was preprocessed\u001b[39m\u001b[38;5;124m\"\u001b[39m)\n\u001b[0;32m---> 45\u001b[0m     ski\u001b[38;5;241m.\u001b[39mio\u001b[38;5;241m.\u001b[39mimshow(preprocessed_image)\n",
      "File \u001b[0;32m/opt/conda/lib/python3.11/site-packages/skimage/io/_io.py:166\u001b[0m, in \u001b[0;36mimshow\u001b[0;34m(arr, plugin, **plugin_args)\u001b[0m\n\u001b[1;32m    164\u001b[0m \u001b[38;5;28;01mif\u001b[39;00m \u001b[38;5;28misinstance\u001b[39m(arr, \u001b[38;5;28mstr\u001b[39m):\n\u001b[1;32m    165\u001b[0m     arr \u001b[38;5;241m=\u001b[39m call_plugin(\u001b[38;5;124m'\u001b[39m\u001b[38;5;124mimread\u001b[39m\u001b[38;5;124m'\u001b[39m, arr, plugin\u001b[38;5;241m=\u001b[39mplugin)\n\u001b[0;32m--> 166\u001b[0m \u001b[38;5;28;01mreturn\u001b[39;00m call_plugin(\u001b[38;5;124m'\u001b[39m\u001b[38;5;124mimshow\u001b[39m\u001b[38;5;124m'\u001b[39m, arr, plugin\u001b[38;5;241m=\u001b[39mplugin, \u001b[38;5;241m*\u001b[39m\u001b[38;5;241m*\u001b[39mplugin_args)\n",
      "File \u001b[0;32m/opt/conda/lib/python3.11/site-packages/skimage/io/manage_plugins.py:205\u001b[0m, in \u001b[0;36mcall_plugin\u001b[0;34m(kind, *args, **kwargs)\u001b[0m\n\u001b[1;32m    202\u001b[0m     \u001b[38;5;28;01mexcept\u001b[39;00m \u001b[38;5;167;01mIndexError\u001b[39;00m:\n\u001b[1;32m    203\u001b[0m         \u001b[38;5;28;01mraise\u001b[39;00m \u001b[38;5;167;01mRuntimeError\u001b[39;00m(\u001b[38;5;124mf\u001b[39m\u001b[38;5;124m'\u001b[39m\u001b[38;5;124mCould not find the plugin \u001b[39m\u001b[38;5;124m\"\u001b[39m\u001b[38;5;132;01m{\u001b[39;00mplugin\u001b[38;5;132;01m}\u001b[39;00m\u001b[38;5;124m\"\u001b[39m\u001b[38;5;124m for \u001b[39m\u001b[38;5;132;01m{\u001b[39;00mkind\u001b[38;5;132;01m}\u001b[39;00m\u001b[38;5;124m.\u001b[39m\u001b[38;5;124m'\u001b[39m)\n\u001b[0;32m--> 205\u001b[0m \u001b[38;5;28;01mreturn\u001b[39;00m func(\u001b[38;5;241m*\u001b[39margs, \u001b[38;5;241m*\u001b[39m\u001b[38;5;241m*\u001b[39mkwargs)\n",
      "File \u001b[0;32m/opt/conda/lib/python3.11/site-packages/skimage/io/_plugins/matplotlib_plugin.py:162\u001b[0m, in \u001b[0;36mimshow\u001b[0;34m(image, ax, show_cbar, **kwargs)\u001b[0m\n\u001b[1;32m    160\u001b[0m     cax \u001b[38;5;241m=\u001b[39m divider\u001b[38;5;241m.\u001b[39mappend_axes(\u001b[38;5;124m\"\u001b[39m\u001b[38;5;124mright\u001b[39m\u001b[38;5;124m\"\u001b[39m, size\u001b[38;5;241m=\u001b[39m\u001b[38;5;124m\"\u001b[39m\u001b[38;5;124m5\u001b[39m\u001b[38;5;124m%\u001b[39m\u001b[38;5;124m\"\u001b[39m, pad\u001b[38;5;241m=\u001b[39m\u001b[38;5;241m0.05\u001b[39m)\n\u001b[1;32m    161\u001b[0m     plt\u001b[38;5;241m.\u001b[39mcolorbar(ax_im, cax\u001b[38;5;241m=\u001b[39mcax)\n\u001b[0;32m--> 162\u001b[0m ax\u001b[38;5;241m.\u001b[39mget_figure()\u001b[38;5;241m.\u001b[39mtight_layout()\n\u001b[1;32m    164\u001b[0m \u001b[38;5;28;01mreturn\u001b[39;00m ax_im\n",
      "File \u001b[0;32m/opt/conda/lib/python3.11/site-packages/matplotlib/figure.py:3544\u001b[0m, in \u001b[0;36mFigure.tight_layout\u001b[0;34m(self, pad, h_pad, w_pad, rect)\u001b[0m\n\u001b[1;32m   3542\u001b[0m previous_engine \u001b[38;5;241m=\u001b[39m \u001b[38;5;28mself\u001b[39m\u001b[38;5;241m.\u001b[39mget_layout_engine()\n\u001b[1;32m   3543\u001b[0m \u001b[38;5;28mself\u001b[39m\u001b[38;5;241m.\u001b[39mset_layout_engine(engine)\n\u001b[0;32m-> 3544\u001b[0m engine\u001b[38;5;241m.\u001b[39mexecute(\u001b[38;5;28mself\u001b[39m)\n\u001b[1;32m   3545\u001b[0m \u001b[38;5;28;01mif\u001b[39;00m \u001b[38;5;129;01mnot\u001b[39;00m \u001b[38;5;28misinstance\u001b[39m(previous_engine, TightLayoutEngine) \\\n\u001b[1;32m   3546\u001b[0m         \u001b[38;5;129;01mand\u001b[39;00m previous_engine \u001b[38;5;129;01mis\u001b[39;00m \u001b[38;5;129;01mnot\u001b[39;00m \u001b[38;5;28;01mNone\u001b[39;00m:\n\u001b[1;32m   3547\u001b[0m     _api\u001b[38;5;241m.\u001b[39mwarn_external(\u001b[38;5;124m'\u001b[39m\u001b[38;5;124mThe figure layout has changed to tight\u001b[39m\u001b[38;5;124m'\u001b[39m)\n",
      "File \u001b[0;32m/opt/conda/lib/python3.11/site-packages/matplotlib/layout_engine.py:184\u001b[0m, in \u001b[0;36mTightLayoutEngine.execute\u001b[0;34m(self, fig)\u001b[0m\n\u001b[1;32m    182\u001b[0m renderer \u001b[38;5;241m=\u001b[39m fig\u001b[38;5;241m.\u001b[39m_get_renderer()\n\u001b[1;32m    183\u001b[0m \u001b[38;5;28;01mwith\u001b[39;00m \u001b[38;5;28mgetattr\u001b[39m(renderer, \u001b[38;5;124m\"\u001b[39m\u001b[38;5;124m_draw_disabled\u001b[39m\u001b[38;5;124m\"\u001b[39m, nullcontext)():\n\u001b[0;32m--> 184\u001b[0m     kwargs \u001b[38;5;241m=\u001b[39m get_tight_layout_figure(\n\u001b[1;32m    185\u001b[0m         fig, fig\u001b[38;5;241m.\u001b[39maxes, get_subplotspec_list(fig\u001b[38;5;241m.\u001b[39maxes), renderer,\n\u001b[1;32m    186\u001b[0m         pad\u001b[38;5;241m=\u001b[39minfo[\u001b[38;5;124m'\u001b[39m\u001b[38;5;124mpad\u001b[39m\u001b[38;5;124m'\u001b[39m], h_pad\u001b[38;5;241m=\u001b[39minfo[\u001b[38;5;124m'\u001b[39m\u001b[38;5;124mh_pad\u001b[39m\u001b[38;5;124m'\u001b[39m], w_pad\u001b[38;5;241m=\u001b[39minfo[\u001b[38;5;124m'\u001b[39m\u001b[38;5;124mw_pad\u001b[39m\u001b[38;5;124m'\u001b[39m],\n\u001b[1;32m    187\u001b[0m         rect\u001b[38;5;241m=\u001b[39minfo[\u001b[38;5;124m'\u001b[39m\u001b[38;5;124mrect\u001b[39m\u001b[38;5;124m'\u001b[39m])\n\u001b[1;32m    188\u001b[0m \u001b[38;5;28;01mif\u001b[39;00m kwargs:\n\u001b[1;32m    189\u001b[0m     fig\u001b[38;5;241m.\u001b[39msubplots_adjust(\u001b[38;5;241m*\u001b[39m\u001b[38;5;241m*\u001b[39mkwargs)\n",
      "File \u001b[0;32m/opt/conda/lib/python3.11/site-packages/matplotlib/_tight_layout.py:266\u001b[0m, in \u001b[0;36mget_tight_layout_figure\u001b[0;34m(fig, axes_list, subplotspec_list, renderer, pad, h_pad, w_pad, rect)\u001b[0m\n\u001b[1;32m    261\u001b[0m         \u001b[38;5;28;01mreturn\u001b[39;00m {}\n\u001b[1;32m    262\u001b[0m     span_pairs\u001b[38;5;241m.\u001b[39mappend((\n\u001b[1;32m    263\u001b[0m         \u001b[38;5;28mslice\u001b[39m(ss\u001b[38;5;241m.\u001b[39mrowspan\u001b[38;5;241m.\u001b[39mstart \u001b[38;5;241m*\u001b[39m div_row, ss\u001b[38;5;241m.\u001b[39mrowspan\u001b[38;5;241m.\u001b[39mstop \u001b[38;5;241m*\u001b[39m div_row),\n\u001b[1;32m    264\u001b[0m         \u001b[38;5;28mslice\u001b[39m(ss\u001b[38;5;241m.\u001b[39mcolspan\u001b[38;5;241m.\u001b[39mstart \u001b[38;5;241m*\u001b[39m div_col, ss\u001b[38;5;241m.\u001b[39mcolspan\u001b[38;5;241m.\u001b[39mstop \u001b[38;5;241m*\u001b[39m div_col)))\n\u001b[0;32m--> 266\u001b[0m kwargs \u001b[38;5;241m=\u001b[39m _auto_adjust_subplotpars(fig, renderer,\n\u001b[1;32m    267\u001b[0m                                   shape\u001b[38;5;241m=\u001b[39m(max_nrows, max_ncols),\n\u001b[1;32m    268\u001b[0m                                   span_pairs\u001b[38;5;241m=\u001b[39mspan_pairs,\n\u001b[1;32m    269\u001b[0m                                   subplot_list\u001b[38;5;241m=\u001b[39msubplot_list,\n\u001b[1;32m    270\u001b[0m                                   ax_bbox_list\u001b[38;5;241m=\u001b[39max_bbox_list,\n\u001b[1;32m    271\u001b[0m                                   pad\u001b[38;5;241m=\u001b[39mpad, h_pad\u001b[38;5;241m=\u001b[39mh_pad, w_pad\u001b[38;5;241m=\u001b[39mw_pad)\n\u001b[1;32m    273\u001b[0m \u001b[38;5;66;03m# kwargs can be none if tight_layout fails...\u001b[39;00m\n\u001b[1;32m    274\u001b[0m \u001b[38;5;28;01mif\u001b[39;00m rect \u001b[38;5;129;01mis\u001b[39;00m \u001b[38;5;129;01mnot\u001b[39;00m \u001b[38;5;28;01mNone\u001b[39;00m \u001b[38;5;129;01mand\u001b[39;00m kwargs \u001b[38;5;129;01mis\u001b[39;00m \u001b[38;5;129;01mnot\u001b[39;00m \u001b[38;5;28;01mNone\u001b[39;00m:\n\u001b[1;32m    275\u001b[0m     \u001b[38;5;66;03m# if rect is given, the whole subplots area (including\u001b[39;00m\n\u001b[1;32m    276\u001b[0m     \u001b[38;5;66;03m# labels) will fit into the rect instead of the\u001b[39;00m\n\u001b[0;32m   (...)\u001b[0m\n\u001b[1;32m    280\u001b[0m     \u001b[38;5;66;03m# auto_adjust_subplotpars twice, where the second run\u001b[39;00m\n\u001b[1;32m    281\u001b[0m     \u001b[38;5;66;03m# with adjusted rect parameters.\u001b[39;00m\n",
      "File \u001b[0;32m/opt/conda/lib/python3.11/site-packages/matplotlib/_tight_layout.py:82\u001b[0m, in \u001b[0;36m_auto_adjust_subplotpars\u001b[0;34m(fig, renderer, shape, span_pairs, subplot_list, ax_bbox_list, pad, h_pad, w_pad, rect)\u001b[0m\n\u001b[1;32m     80\u001b[0m \u001b[38;5;28;01mfor\u001b[39;00m ax \u001b[38;5;129;01min\u001b[39;00m subplots:\n\u001b[1;32m     81\u001b[0m     \u001b[38;5;28;01mif\u001b[39;00m ax\u001b[38;5;241m.\u001b[39mget_visible():\n\u001b[0;32m---> 82\u001b[0m         bb \u001b[38;5;241m+\u001b[39m\u001b[38;5;241m=\u001b[39m [martist\u001b[38;5;241m.\u001b[39m_get_tightbbox_for_layout_only(ax, renderer)]\n\u001b[1;32m     84\u001b[0m tight_bbox_raw \u001b[38;5;241m=\u001b[39m Bbox\u001b[38;5;241m.\u001b[39munion(bb)\n\u001b[1;32m     85\u001b[0m tight_bbox \u001b[38;5;241m=\u001b[39m fig\u001b[38;5;241m.\u001b[39mtransFigure\u001b[38;5;241m.\u001b[39minverted()\u001b[38;5;241m.\u001b[39mtransform_bbox(tight_bbox_raw)\n",
      "File \u001b[0;32m/opt/conda/lib/python3.11/site-packages/matplotlib/artist.py:1415\u001b[0m, in \u001b[0;36m_get_tightbbox_for_layout_only\u001b[0;34m(obj, *args, **kwargs)\u001b[0m\n\u001b[1;32m   1409\u001b[0m \u001b[38;5;250m\u001b[39m\u001b[38;5;124;03m\"\"\"\u001b[39;00m\n\u001b[1;32m   1410\u001b[0m \u001b[38;5;124;03mMatplotlib's `.Axes.get_tightbbox` and `.Axis.get_tightbbox` support a\u001b[39;00m\n\u001b[1;32m   1411\u001b[0m \u001b[38;5;124;03m*for_layout_only* kwarg; this helper tries to use the kwarg but skips it\u001b[39;00m\n\u001b[1;32m   1412\u001b[0m \u001b[38;5;124;03mwhen encountering third-party subclasses that do not support it.\u001b[39;00m\n\u001b[1;32m   1413\u001b[0m \u001b[38;5;124;03m\"\"\"\u001b[39;00m\n\u001b[1;32m   1414\u001b[0m \u001b[38;5;28;01mtry\u001b[39;00m:\n\u001b[0;32m-> 1415\u001b[0m     \u001b[38;5;28;01mreturn\u001b[39;00m obj\u001b[38;5;241m.\u001b[39mget_tightbbox(\u001b[38;5;241m*\u001b[39margs, \u001b[38;5;241m*\u001b[39m\u001b[38;5;241m*\u001b[39m{\u001b[38;5;241m*\u001b[39m\u001b[38;5;241m*\u001b[39mkwargs, \u001b[38;5;124m\"\u001b[39m\u001b[38;5;124mfor_layout_only\u001b[39m\u001b[38;5;124m\"\u001b[39m: \u001b[38;5;28;01mTrue\u001b[39;00m})\n\u001b[1;32m   1416\u001b[0m \u001b[38;5;28;01mexcept\u001b[39;00m \u001b[38;5;167;01mTypeError\u001b[39;00m:\n\u001b[1;32m   1417\u001b[0m     \u001b[38;5;28;01mreturn\u001b[39;00m obj\u001b[38;5;241m.\u001b[39mget_tightbbox(\u001b[38;5;241m*\u001b[39margs, \u001b[38;5;241m*\u001b[39m\u001b[38;5;241m*\u001b[39mkwargs)\n",
      "File \u001b[0;32m/opt/conda/lib/python3.11/site-packages/matplotlib/axes/_base.py:4385\u001b[0m, in \u001b[0;36m_AxesBase.get_tightbbox\u001b[0;34m(self, renderer, call_axes_locator, bbox_extra_artists, for_layout_only)\u001b[0m\n\u001b[1;32m   4383\u001b[0m \u001b[38;5;28;01mfor\u001b[39;00m axis \u001b[38;5;129;01min\u001b[39;00m \u001b[38;5;28mself\u001b[39m\u001b[38;5;241m.\u001b[39m_axis_map\u001b[38;5;241m.\u001b[39mvalues():\n\u001b[1;32m   4384\u001b[0m     \u001b[38;5;28;01mif\u001b[39;00m \u001b[38;5;28mself\u001b[39m\u001b[38;5;241m.\u001b[39maxison \u001b[38;5;129;01mand\u001b[39;00m axis\u001b[38;5;241m.\u001b[39mget_visible():\n\u001b[0;32m-> 4385\u001b[0m         ba \u001b[38;5;241m=\u001b[39m martist\u001b[38;5;241m.\u001b[39m_get_tightbbox_for_layout_only(axis, renderer)\n\u001b[1;32m   4386\u001b[0m         \u001b[38;5;28;01mif\u001b[39;00m ba:\n\u001b[1;32m   4387\u001b[0m             bb\u001b[38;5;241m.\u001b[39mappend(ba)\n",
      "File \u001b[0;32m/opt/conda/lib/python3.11/site-packages/matplotlib/artist.py:1415\u001b[0m, in \u001b[0;36m_get_tightbbox_for_layout_only\u001b[0;34m(obj, *args, **kwargs)\u001b[0m\n\u001b[1;32m   1409\u001b[0m \u001b[38;5;250m\u001b[39m\u001b[38;5;124;03m\"\"\"\u001b[39;00m\n\u001b[1;32m   1410\u001b[0m \u001b[38;5;124;03mMatplotlib's `.Axes.get_tightbbox` and `.Axis.get_tightbbox` support a\u001b[39;00m\n\u001b[1;32m   1411\u001b[0m \u001b[38;5;124;03m*for_layout_only* kwarg; this helper tries to use the kwarg but skips it\u001b[39;00m\n\u001b[1;32m   1412\u001b[0m \u001b[38;5;124;03mwhen encountering third-party subclasses that do not support it.\u001b[39;00m\n\u001b[1;32m   1413\u001b[0m \u001b[38;5;124;03m\"\"\"\u001b[39;00m\n\u001b[1;32m   1414\u001b[0m \u001b[38;5;28;01mtry\u001b[39;00m:\n\u001b[0;32m-> 1415\u001b[0m     \u001b[38;5;28;01mreturn\u001b[39;00m obj\u001b[38;5;241m.\u001b[39mget_tightbbox(\u001b[38;5;241m*\u001b[39margs, \u001b[38;5;241m*\u001b[39m\u001b[38;5;241m*\u001b[39m{\u001b[38;5;241m*\u001b[39m\u001b[38;5;241m*\u001b[39mkwargs, \u001b[38;5;124m\"\u001b[39m\u001b[38;5;124mfor_layout_only\u001b[39m\u001b[38;5;124m\"\u001b[39m: \u001b[38;5;28;01mTrue\u001b[39;00m})\n\u001b[1;32m   1416\u001b[0m \u001b[38;5;28;01mexcept\u001b[39;00m \u001b[38;5;167;01mTypeError\u001b[39;00m:\n\u001b[1;32m   1417\u001b[0m     \u001b[38;5;28;01mreturn\u001b[39;00m obj\u001b[38;5;241m.\u001b[39mget_tightbbox(\u001b[38;5;241m*\u001b[39margs, \u001b[38;5;241m*\u001b[39m\u001b[38;5;241m*\u001b[39mkwargs)\n",
      "File \u001b[0;32m/opt/conda/lib/python3.11/site-packages/matplotlib/axis.py:1325\u001b[0m, in \u001b[0;36mAxis.get_tightbbox\u001b[0;34m(self, renderer, for_layout_only)\u001b[0m\n\u001b[1;32m   1322\u001b[0m     renderer \u001b[38;5;241m=\u001b[39m \u001b[38;5;28mself\u001b[39m\u001b[38;5;241m.\u001b[39mfigure\u001b[38;5;241m.\u001b[39m_get_renderer()\n\u001b[1;32m   1323\u001b[0m ticks_to_draw \u001b[38;5;241m=\u001b[39m \u001b[38;5;28mself\u001b[39m\u001b[38;5;241m.\u001b[39m_update_ticks()\n\u001b[0;32m-> 1325\u001b[0m \u001b[38;5;28mself\u001b[39m\u001b[38;5;241m.\u001b[39m_update_label_position(renderer)\n\u001b[1;32m   1327\u001b[0m \u001b[38;5;66;03m# go back to just this axis's tick labels\u001b[39;00m\n\u001b[1;32m   1328\u001b[0m tlb1, tlb2 \u001b[38;5;241m=\u001b[39m \u001b[38;5;28mself\u001b[39m\u001b[38;5;241m.\u001b[39m_get_ticklabel_bboxes(ticks_to_draw, renderer)\n",
      "File \u001b[0;32m/opt/conda/lib/python3.11/site-packages/matplotlib/axis.py:2304\u001b[0m, in \u001b[0;36mXAxis._update_label_position\u001b[0;34m(self, renderer)\u001b[0m\n\u001b[1;32m   2300\u001b[0m     \u001b[38;5;28;01mreturn\u001b[39;00m\n\u001b[1;32m   2302\u001b[0m \u001b[38;5;66;03m# get bounding boxes for this axis and any siblings\u001b[39;00m\n\u001b[1;32m   2303\u001b[0m \u001b[38;5;66;03m# that have been set by `fig.align_xlabels()`\u001b[39;00m\n\u001b[0;32m-> 2304\u001b[0m bboxes, bboxes2 \u001b[38;5;241m=\u001b[39m \u001b[38;5;28mself\u001b[39m\u001b[38;5;241m.\u001b[39m_get_tick_boxes_siblings(renderer\u001b[38;5;241m=\u001b[39mrenderer)\n\u001b[1;32m   2306\u001b[0m x, y \u001b[38;5;241m=\u001b[39m \u001b[38;5;28mself\u001b[39m\u001b[38;5;241m.\u001b[39mlabel\u001b[38;5;241m.\u001b[39mget_position()\n\u001b[1;32m   2307\u001b[0m \u001b[38;5;28;01mif\u001b[39;00m \u001b[38;5;28mself\u001b[39m\u001b[38;5;241m.\u001b[39mlabel_position \u001b[38;5;241m==\u001b[39m \u001b[38;5;124m'\u001b[39m\u001b[38;5;124mbottom\u001b[39m\u001b[38;5;124m'\u001b[39m:\n",
      "File \u001b[0;32m/opt/conda/lib/python3.11/site-packages/matplotlib/axis.py:2100\u001b[0m, in \u001b[0;36mAxis._get_tick_boxes_siblings\u001b[0;34m(self, renderer)\u001b[0m\n\u001b[1;32m   2098\u001b[0m axis \u001b[38;5;241m=\u001b[39m \u001b[38;5;28mgetattr\u001b[39m(ax, \u001b[38;5;124mf\u001b[39m\u001b[38;5;124m\"\u001b[39m\u001b[38;5;132;01m{\u001b[39;00maxis_name\u001b[38;5;132;01m}\u001b[39;00m\u001b[38;5;124maxis\u001b[39m\u001b[38;5;124m\"\u001b[39m)\n\u001b[1;32m   2099\u001b[0m ticks_to_draw \u001b[38;5;241m=\u001b[39m axis\u001b[38;5;241m.\u001b[39m_update_ticks()\n\u001b[0;32m-> 2100\u001b[0m tlb, tlb2 \u001b[38;5;241m=\u001b[39m axis\u001b[38;5;241m.\u001b[39m_get_ticklabel_bboxes(ticks_to_draw, renderer)\n\u001b[1;32m   2101\u001b[0m bboxes\u001b[38;5;241m.\u001b[39mextend(tlb)\n\u001b[1;32m   2102\u001b[0m bboxes2\u001b[38;5;241m.\u001b[39mextend(tlb2)\n",
      "File \u001b[0;32m/opt/conda/lib/python3.11/site-packages/matplotlib/axis.py:1304\u001b[0m, in \u001b[0;36mAxis._get_ticklabel_bboxes\u001b[0;34m(self, ticks, renderer)\u001b[0m\n\u001b[1;32m   1302\u001b[0m \u001b[38;5;28;01mif\u001b[39;00m renderer \u001b[38;5;129;01mis\u001b[39;00m \u001b[38;5;28;01mNone\u001b[39;00m:\n\u001b[1;32m   1303\u001b[0m     renderer \u001b[38;5;241m=\u001b[39m \u001b[38;5;28mself\u001b[39m\u001b[38;5;241m.\u001b[39mfigure\u001b[38;5;241m.\u001b[39m_get_renderer()\n\u001b[0;32m-> 1304\u001b[0m \u001b[38;5;28;01mreturn\u001b[39;00m ([tick\u001b[38;5;241m.\u001b[39mlabel1\u001b[38;5;241m.\u001b[39mget_window_extent(renderer)\n\u001b[1;32m   1305\u001b[0m          \u001b[38;5;28;01mfor\u001b[39;00m tick \u001b[38;5;129;01min\u001b[39;00m ticks \u001b[38;5;28;01mif\u001b[39;00m tick\u001b[38;5;241m.\u001b[39mlabel1\u001b[38;5;241m.\u001b[39mget_visible()],\n\u001b[1;32m   1306\u001b[0m         [tick\u001b[38;5;241m.\u001b[39mlabel2\u001b[38;5;241m.\u001b[39mget_window_extent(renderer)\n\u001b[1;32m   1307\u001b[0m          \u001b[38;5;28;01mfor\u001b[39;00m tick \u001b[38;5;129;01min\u001b[39;00m ticks \u001b[38;5;28;01mif\u001b[39;00m tick\u001b[38;5;241m.\u001b[39mlabel2\u001b[38;5;241m.\u001b[39mget_visible()])\n",
      "File \u001b[0;32m/opt/conda/lib/python3.11/site-packages/matplotlib/axis.py:1304\u001b[0m, in \u001b[0;36m<listcomp>\u001b[0;34m(.0)\u001b[0m\n\u001b[1;32m   1302\u001b[0m \u001b[38;5;28;01mif\u001b[39;00m renderer \u001b[38;5;129;01mis\u001b[39;00m \u001b[38;5;28;01mNone\u001b[39;00m:\n\u001b[1;32m   1303\u001b[0m     renderer \u001b[38;5;241m=\u001b[39m \u001b[38;5;28mself\u001b[39m\u001b[38;5;241m.\u001b[39mfigure\u001b[38;5;241m.\u001b[39m_get_renderer()\n\u001b[0;32m-> 1304\u001b[0m \u001b[38;5;28;01mreturn\u001b[39;00m ([tick\u001b[38;5;241m.\u001b[39mlabel1\u001b[38;5;241m.\u001b[39mget_window_extent(renderer)\n\u001b[1;32m   1305\u001b[0m          \u001b[38;5;28;01mfor\u001b[39;00m tick \u001b[38;5;129;01min\u001b[39;00m ticks \u001b[38;5;28;01mif\u001b[39;00m tick\u001b[38;5;241m.\u001b[39mlabel1\u001b[38;5;241m.\u001b[39mget_visible()],\n\u001b[1;32m   1306\u001b[0m         [tick\u001b[38;5;241m.\u001b[39mlabel2\u001b[38;5;241m.\u001b[39mget_window_extent(renderer)\n\u001b[1;32m   1307\u001b[0m          \u001b[38;5;28;01mfor\u001b[39;00m tick \u001b[38;5;129;01min\u001b[39;00m ticks \u001b[38;5;28;01mif\u001b[39;00m tick\u001b[38;5;241m.\u001b[39mlabel2\u001b[38;5;241m.\u001b[39mget_visible()])\n",
      "File \u001b[0;32m/opt/conda/lib/python3.11/site-packages/matplotlib/text.py:959\u001b[0m, in \u001b[0;36mText.get_window_extent\u001b[0;34m(self, renderer, dpi)\u001b[0m\n\u001b[1;32m    954\u001b[0m     \u001b[38;5;28;01mraise\u001b[39;00m \u001b[38;5;167;01mRuntimeError\u001b[39;00m(\n\u001b[1;32m    955\u001b[0m         \u001b[38;5;124m\"\u001b[39m\u001b[38;5;124mCannot get window extent of text w/o renderer. You likely \u001b[39m\u001b[38;5;124m\"\u001b[39m\n\u001b[1;32m    956\u001b[0m         \u001b[38;5;124m\"\u001b[39m\u001b[38;5;124mwant to call \u001b[39m\u001b[38;5;124m'\u001b[39m\u001b[38;5;124mfigure.draw_without_rendering()\u001b[39m\u001b[38;5;124m'\u001b[39m\u001b[38;5;124m first.\u001b[39m\u001b[38;5;124m\"\u001b[39m)\n\u001b[1;32m    958\u001b[0m \u001b[38;5;28;01mwith\u001b[39;00m cbook\u001b[38;5;241m.\u001b[39m_setattr_cm(\u001b[38;5;28mself\u001b[39m\u001b[38;5;241m.\u001b[39mfigure, dpi\u001b[38;5;241m=\u001b[39mdpi):\n\u001b[0;32m--> 959\u001b[0m     bbox, info, descent \u001b[38;5;241m=\u001b[39m \u001b[38;5;28mself\u001b[39m\u001b[38;5;241m.\u001b[39m_get_layout(\u001b[38;5;28mself\u001b[39m\u001b[38;5;241m.\u001b[39m_renderer)\n\u001b[1;32m    960\u001b[0m     x, y \u001b[38;5;241m=\u001b[39m \u001b[38;5;28mself\u001b[39m\u001b[38;5;241m.\u001b[39mget_unitless_position()\n\u001b[1;32m    961\u001b[0m     x, y \u001b[38;5;241m=\u001b[39m \u001b[38;5;28mself\u001b[39m\u001b[38;5;241m.\u001b[39mget_transform()\u001b[38;5;241m.\u001b[39mtransform((x, y))\n",
      "File \u001b[0;32m/opt/conda/lib/python3.11/site-packages/matplotlib/text.py:427\u001b[0m, in \u001b[0;36mText._get_layout\u001b[0;34m(self, renderer)\u001b[0m\n\u001b[1;32m    424\u001b[0m ymin \u001b[38;5;241m=\u001b[39m ys[\u001b[38;5;241m-\u001b[39m\u001b[38;5;241m1\u001b[39m] \u001b[38;5;241m-\u001b[39m descent  \u001b[38;5;66;03m# baseline of last line minus its descent\u001b[39;00m\n\u001b[1;32m    426\u001b[0m \u001b[38;5;66;03m# get the rotation matrix\u001b[39;00m\n\u001b[0;32m--> 427\u001b[0m M \u001b[38;5;241m=\u001b[39m Affine2D()\u001b[38;5;241m.\u001b[39mrotate_deg(\u001b[38;5;28mself\u001b[39m\u001b[38;5;241m.\u001b[39mget_rotation())\n\u001b[1;32m    429\u001b[0m \u001b[38;5;66;03m# now offset the individual text lines within the box\u001b[39;00m\n\u001b[1;32m    430\u001b[0m malign \u001b[38;5;241m=\u001b[39m \u001b[38;5;28mself\u001b[39m\u001b[38;5;241m.\u001b[39m_get_multialignment()\n",
      "File \u001b[0;32m/opt/conda/lib/python3.11/site-packages/matplotlib/transforms.py:1903\u001b[0m, in \u001b[0;36mAffine2D.__init__\u001b[0;34m(self, matrix, **kwargs)\u001b[0m\n\u001b[1;32m   1900\u001b[0m \u001b[38;5;28;01mif\u001b[39;00m matrix \u001b[38;5;129;01mis\u001b[39;00m \u001b[38;5;28;01mNone\u001b[39;00m:\n\u001b[1;32m   1901\u001b[0m     \u001b[38;5;66;03m# A bit faster than np.identity(3).\u001b[39;00m\n\u001b[1;32m   1902\u001b[0m     matrix \u001b[38;5;241m=\u001b[39m IdentityTransform\u001b[38;5;241m.\u001b[39m_mtx\n\u001b[0;32m-> 1903\u001b[0m \u001b[38;5;28mself\u001b[39m\u001b[38;5;241m.\u001b[39m_mtx \u001b[38;5;241m=\u001b[39m matrix\u001b[38;5;241m.\u001b[39mcopy()\n\u001b[1;32m   1904\u001b[0m \u001b[38;5;28mself\u001b[39m\u001b[38;5;241m.\u001b[39m_invalid \u001b[38;5;241m=\u001b[39m \u001b[38;5;241m0\u001b[39m\n",
      "\u001b[0;31mKeyboardInterrupt\u001b[0m: "
     ]
    },
    {
     "data": {
      "image/png": "[encoded data removed]",
      "text/plain": [
       "<Figure size 640x480 with 1 Axes>"
      ]
     },
     "metadata": {},
     "output_type": "display_data"
    }
   ],
   "source": [
    "# FLAGS \n",
    "FILTER_IMAGES = True\n",
    "PREPROCESS_IMAGES = True\n",
    "VERBOSE = True\n",
    "VERBOSE_FUNCTIONS = False\n",
    "# Check if the folder, images_training_subfolder31, exists\n",
    "FOLDER_OF_INTEREST = \"images_training_subfolder31\"\n",
    "\n",
    "if not os.path.isdir(FOLDER_OF_INTEREST):\n",
    "    print(f\"The folder {FOLDER_OF_INTEREST} does not exist. Please download from the Kaggle website and split if needed.\")\n",
    "    raise SystemExit\n",
    "\n",
    "image_collection = ski.io.imread_collection(f\"./{FOLDER_OF_INTEREST}/*.jpg\", conserve_memory=True)\n",
    "\n",
    "for index, image in enumerate(image_collection):\n",
    "    name = image_collection.files[index].split(\"/\")[-1].split(\".\")[0]\n",
    "    \n",
    "    if VERBOSE:\n",
    "        print(f\"Image[{index}]\")\n",
    "\n",
    "    if FILTER_IMAGES:\n",
    "        return_value = filter_image(image, VERBOSE_FUNCTIONS) \n",
    "        if return_value is True:\n",
    "            if VERBOSE:\n",
    "                print(f\"Image[{index}] was filtered out\")\n",
    "            continue \n",
    "    galaxy = return_value\n",
    "    \n",
    "    if VERBOSE:\n",
    "        print(\"Image passed filter\")\n",
    "\n",
    "    if PREPROCESS_IMAGES:\n",
    "        preprocessed_image = preprocess_image(image, galaxy, VERBOSE_FUNCTIONS)\n",
    "        # Send image to prepped_images folder\n",
    "        # Make it a tiff file\n",
    "        image = ski.img_as_ubyte(preprocessed_image)\n",
    "        # If the folder does not exist, create it\n",
    "        if not os.path.isdir(f\"./prepped_images/{FOLDER_OF_INTEREST}\"):\n",
    "            os.mkdir(f\"./prepped_images/{FOLDER_OF_INTEREST}\")\n",
    "        ski.io.imsave(f\"./prepped_images/{FOLDER_OF_INTEREST}/{name}.tiff\", image)\n",
    "\n",
    "    if VERBOSE:\n",
    "        print(\"Image was preprocessed\")\n",
    "\n",
    "        ski.io.imshow(preprocessed_image)\n",
    "   \n"
   ]
  },
  {
   "cell_type": "code",
   "execution_count": null,
   "metadata": {
    "datalore": {
     "hide_input_from_viewers": true,
     "hide_output_from_viewers": true,
     "node_id": "h5xuOI0KfGxcGmJhlMBxUn",
     "type": "CODE"
    }
   },
   "outputs": [],
   "source": [
    "print(\"Hello\")\n",
    "raise SystemExit\n",
    "print(\"This should not run\")"
   ]
  },
  {
   "cell_type": "markdown",
   "metadata": {},
   "source": [
    "# Here are some testing"
   ]
  },
  {
   "cell_type": "code",
   "execution_count": null,
   "metadata": {},
   "outputs": [
    {
     "name": "stdout",
     "output_type": "stream",
     "text": [
      "[[ 6  4  3 ...  3  5  5]\n",
      " [ 8  6  4 ...  3  4  5]\n",
      " [ 9  7  7 ...  2  4  5]\n",
      " ...\n",
      " [20 17 12 ...  4  5  6]\n",
      " [17 15 12 ...  3  3  4]\n",
      " [14 13 12 ...  3  3  3]]\n"
     ]
    },
    {
     "data": {
      "text/plain": [
       "<matplotlib.image.AxesImage at 0xffff38f58ed0>"
      ]
     },
     "execution_count": 14,
     "metadata": {},
     "output_type": "execute_result"
    },
    {
     "data": {
      "image/png": "[encoded data removed]",
      "text/plain": [
       "<Figure size 640x480 with 1 Axes>"
      ]
     },
     "metadata": {},
     "output_type": "display_data"
    }
   ],
   "source": [
    "#Testing\n",
    "img = ski.io.imread('prepped_images/images_training_subfolder31/156.tiff')\n",
    "print(np.array(img))\n",
    "ski.io.imshow(img)"
   ]
  },
  {
   "cell_type": "code",
   "execution_count": null,
   "metadata": {},
   "outputs": [],
   "source": [
    "import "
   ]
  }
 ],
 "metadata": {
  "datalore": {
   "base_environment": "default",
   "computation_mode": "JUPYTER",
   "package_manager": "pip",
   "packages": [],
   "report_row_ids": [],
   "version": 3
  },
  "kernelspec": {
   "display_name": "base",
   "language": "python",
   "name": "python3"
  },
  "language_info": {
   "codemirror_mode": {
    "name": "ipython",
    "version": 3
   },
   "file_extension": ".py",
   "mimetype": "text/x-python",
   "name": "python",
   "nbconvert_exporter": "python",
   "pygments_lexer": "ipython3",
   "version": "3.11.5"
  }
 },
 "nbformat": 4,
 "nbformat_minor": 4
}
